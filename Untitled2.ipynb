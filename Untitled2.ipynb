{
 "cells": [
  {
   "cell_type": "code",
   "execution_count": 1,
   "metadata": {
    "collapsed": false
   },
   "outputs": [
    {
     "name": "stderr",
     "output_type": "stream",
     "text": [
      "Using TensorFlow backend.\n"
     ]
    }
   ],
   "source": [
    "from keras.preprocessing.image import array_to_img, img_to_array, load_img\n",
    "from keras.models import Sequential\n",
    "from keras.layers import Convolution2D, MaxPooling2D\n",
    "from keras.layers import Activation, Dropout, Flatten, Dense\n",
    "from keras.utils import np_utils\n",
    "from sklearn.cross_validation import train_test_split, cross_val_score, KFold\n",
    "import numpy as np\n",
    "import os \n",
    "import random"
   ]
  },
  {
   "cell_type": "code",
   "execution_count": 2,
   "metadata": {
    "collapsed": true
   },
   "outputs": [],
   "source": [
    "# 数据集图片文件根目录\n",
    "path = 'H:\\surfzjy\\workspace\\keras_study\\practise\\swimcat_data'\n",
    "# 列出类别名\n",
    "files = os.listdir(path)"
   ]
  },
  {
   "cell_type": "code",
   "execution_count": 3,
   "metadata": {
    "collapsed": true
   },
   "outputs": [],
   "source": [
    "# 储存图片地址的列表\n",
    "path_list = []\n",
    "# 储存图片标签的列表\n",
    "labels = []\n",
    "# 类别数目\n",
    "nb_classes = len(files)"
   ]
  },
  {
   "cell_type": "code",
   "execution_count": 4,
   "metadata": {
    "collapsed": false
   },
   "outputs": [],
   "source": [
    "# 将图片地址，标签打包放入相应列表中\n",
    "for i in range(nb_classes):\n",
    "    sub_path = path + '\\\\' + files[i]\n",
    "    pics = os.listdir(sub_path)\n",
    "    nb_pics = len(pics)\n",
    "    for j in range(nb_pics):\n",
    "        img_path = sub_path + '\\\\' + pics[j]\n",
    "        path_list.append(img_path)\n",
    "        labels.append(i)"
   ]
  },
  {
   "cell_type": "code",
   "execution_count": 5,
   "metadata": {
    "collapsed": false
   },
   "outputs": [],
   "source": [
    "# 将图片地址，标签的列表以相同方式随机打乱（保持地址和标签的对应关系）\n",
    "tmp = list(zip(path_list, labels))\n",
    "random.shuffle(tmp)\n",
    "path_list, labels = zip(*tmp)\n",
    "# 划分训练集和测试集\n",
    "test_ratio = 0.2\n",
    "nb_data = len(labels)\n",
    "nb_test = round(nb_data * test_ratio)\n",
    "test_list = path_list[:nb_test]\n",
    "test_label = labels[:nb_test]\n",
    "train_list = path_list[nb_test:]\n",
    "train_label = labels[nb_test:]"
   ]
  },
  {
   "cell_type": "code",
   "execution_count": 6,
   "metadata": {
    "collapsed": true
   },
   "outputs": [],
   "source": [
    "# 建立训练模型\n",
    "model = Sequential()\n",
    "model.add(Convolution2D(32, 3, 3, input_shape=(125,125,3)))\n",
    "model.add(Activation('relu'))\n",
    "model.add(MaxPooling2D(pool_size=(2,2)))\n",
    "model.add(Convolution2D(32, 3, 3))\n",
    "model.add(Activation('relu'))\n",
    "model.add(MaxPooling2D(pool_size=(2,2)))\n",
    "model.add(Convolution2D(64, 3, 3))\n",
    "model.add(Activation('relu'))\n",
    "model.add(MaxPooling2D(pool_size=(2,2)))\n",
    "model.add(Flatten())\n",
    "model.add(Dense(64))\n",
    "model.add(Activation('relu'))\n",
    "model.add(Dropout(0.5))\n",
    "model.add(Dense(5))\n",
    "model.add(Activation('softmax'))\n",
    "model.compile(loss='categorical_crossentropy', \n",
    "              optimizer='rmsprop',metrics=['accuracy'])"
   ]
  },
  {
   "cell_type": "code",
   "execution_count": 7,
   "metadata": {
    "collapsed": false
   },
   "outputs": [],
   "source": [
    "label_dock = []\n",
    "data_dock = []\n",
    "dock_thres = 60\n",
    "dock_init = 0\n",
    "dock_cot = 0 "
   ]
  },
  {
   "cell_type": "code",
   "execution_count": null,
   "metadata": {
    "collapsed": true
   },
   "outputs": [],
   "source": [
    "def model_fit(model ,data_dock, label_dock):\n",
    "    # 将数据转换为 numpy array 类型\n",
    "    data_array = np.array(data_dock)\n",
    "    label_array = np.array(label_dock)\n",
    "    # 训练数据归一化\n",
    "    data_array /= 255\n",
    "    # 训练标签one-hot编码\n",
    "    label_array = np_utils.to_categorical(label_array, nb_classes=5)\n",
    "    # 开始训练\n",
    "    model.fit(data_array, label_array, \n",
    "              nb_epoch=50, batch_size=20,\n",
    "              verbose=1)    "
   ]
  },
  {
   "cell_type": "code",
   "execution_count": null,
   "metadata": {
    "collapsed": false
   },
   "outputs": [
    {
     "name": "stdout",
     "output_type": "stream",
     "text": [
      "1\n",
      "2\n",
      "3\n",
      "4\n",
      "5\n",
      "6\n",
      "7\n",
      "8\n",
      "9\n",
      "10\n",
      "11\n",
      "12\n",
      "13\n",
      "14\n",
      "15\n",
      "16\n",
      "17\n",
      "18\n",
      "19\n",
      "20\n",
      "21\n",
      "22\n",
      "23\n",
      "24\n",
      "25\n",
      "26\n",
      "27\n",
      "28\n",
      "29\n",
      "30\n",
      "31\n",
      "32\n",
      "33\n",
      "34\n",
      "35\n",
      "36\n",
      "37\n",
      "38\n",
      "39\n",
      "40\n",
      "41\n",
      "42\n",
      "43\n",
      "44\n",
      "45\n",
      "46\n",
      "47\n",
      "48\n",
      "49\n",
      "50\n",
      "51\n",
      "52\n",
      "53\n",
      "54\n",
      "55\n",
      "56\n",
      "57\n",
      "58\n",
      "59\n",
      "60\n",
      "Round 0\n",
      "Epoch 1/50\n"
     ]
    }
   ],
   "source": [
    "for i in range(len(train_label)):\n",
    "    # 设置一个训练容器，每次读取数据加入容器，容器一旦达到上限便放入训练器中训练模型\n",
    "    # 数据读取并放入容器中\n",
    "    img = load_img(train_list[i])\n",
    "    x = img_to_array(img)\n",
    "    data_dock.append(x)\n",
    "    label_dock.append(train_label[i])\n",
    "    dock_init += 1\n",
    "    print(dock_init)\n",
    "    # 这里提前算出容器可以倾倒的次数\n",
    "    dock_epoch = len(train_label) // dock_thres\n",
    "    # 容器一旦满，便倒入训练器中训练\n",
    "    if dock_init >= dock_thres:\n",
    "        print('Round', dock_cot)\n",
    "        model_fit(model, data_dock, label_dock)\n",
    "        dock_cot += 1\n",
    "        data_dock = []\n",
    "        label_dock = []\n",
    "        dock_init = 0"
   ]
  },
  {
   "cell_type": "code",
   "execution_count": null,
   "metadata": {
    "collapsed": true
   },
   "outputs": [],
   "source": []
  }
 ],
 "metadata": {
  "anaconda-cloud": {},
  "kernelspec": {
   "display_name": "Python [conda root]",
   "language": "python",
   "name": "conda-root-py"
  },
  "language_info": {
   "codemirror_mode": {
    "name": "ipython",
    "version": 3
   },
   "file_extension": ".py",
   "mimetype": "text/x-python",
   "name": "python",
   "nbconvert_exporter": "python",
   "pygments_lexer": "ipython3",
   "version": "3.5.2"
  }
 },
 "nbformat": 4,
 "nbformat_minor": 1
}
