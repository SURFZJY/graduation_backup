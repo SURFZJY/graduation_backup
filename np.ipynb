{
 "cells": [
  {
   "cell_type": "code",
   "execution_count": 1,
   "metadata": {
    "collapsed": false
   },
   "outputs": [
    {
     "name": "stderr",
     "output_type": "stream",
     "text": [
      "Using TensorFlow backend.\n"
     ]
    }
   ],
   "source": [
    "from keras.preprocessing.image import load_img , img_to_array\n",
    "from prettytable import PrettyTable\n",
    "import numpy as np\n",
    "import os \n",
    "\n",
    "def generate_data(path):\n",
    "    \"\"\"Load image data from the root directory.\n",
    "    \n",
    "    Load image data from the root directory and convert it \n",
    "    to numpy array format, automatically generate data and \n",
    "    its corresponding labels.\n",
    "    \n",
    "    # Parameters\n",
    "        path : str\n",
    "            path of the data directory\n",
    "            in the format like:\n",
    "            path/\n",
    "                dogs/\n",
    "                    dog001.jpg\n",
    "                    dog002.jpg\n",
    "                    ...\n",
    "                cats/\n",
    "                    cat001/jpg\n",
    "                    cat002.jpg\n",
    "                    ...\n",
    "                elephants/\n",
    "                    elephant001.jpg\n",
    "                    elephant002.jpg\n",
    "                    ...\n",
    "    # Returns\n",
    "        numpy array tuple: (data, labels)\n",
    "    \"\"\"\n",
    "    files = os.listdir(path)\n",
    "    data = []\n",
    "    labels = []\n",
    "    nb_classes = len(files)\n",
    "    class_name = []\n",
    "    class_list = []\n",
    "    \n",
    "    for i in range(nb_classes):\n",
    "        sub_path = path + '\\\\' + files[i]  \n",
    "        pics = os.listdir(sub_path)\n",
    "        nb_pics = len(pics)\n",
    "        file_name = files[i]\n",
    "        class_name.append(file_name)\n",
    "        class_list.append(nb_pics)\n",
    "        for j in range(nb_pics):\n",
    "            img_path = sub_path + '\\\\' + pics[j]\n",
    "            img = load_img(img_path)\n",
    "            x = img_to_array(img)\n",
    "            data.append(x)\n",
    "            labels.append(i)\n",
    "    \n",
    "    data = np.array(data)\n",
    "    labels = np.array(labels)\n",
    "    print(sum(class_list), \"samples in\", nb_classes, \"categories\")\n",
    "    print(\"The shape of each sample is\", x.shape)\n",
    "    table = PrettyTable([\"Class_name\", \"Samples_number\", \"Label\"])\n",
    "    table.align[\"Class_name\"] = \"l\"\n",
    "    table.padding_width = 1\n",
    "    for i in range(nb_classes):\n",
    "        table.add_row([class_name[i], class_list[i], i])\n",
    "    print(table)\n",
    "    print(\"Generated data_size is\", data.shape)\n",
    "    print(\"Generated labels_size is\", labels.shape)\n",
    "    return data, labels\n"
   ]
  },
  {
   "cell_type": "code",
   "execution_count": 2,
   "metadata": {
    "collapsed": false
   },
   "outputs": [],
   "source": [
    "from keras.models import Sequential \n",
    "from keras.layers import Convolution2D, MaxPooling2D\n",
    "from keras.layers import Activation, Dropout, Flatten, Dense \n",
    "from keras.preprocessing.image import load_img , img_to_array\n",
    "from keras.callbacks import CSVLogger\n",
    "from keras.utils import np_utils\n",
    "from keras.utils.visualize_util import plot\n",
    "from keras.applications.vgg16 import VGG16, preprocess_input\n",
    "from sklearn.cross_validation import train_test_split, cross_val_score, KFold\n",
    "from prettytable import PrettyTable\n",
    "import numpy as np\n",
    "import os "
   ]
  },
  {
   "cell_type": "code",
   "execution_count": 3,
   "metadata": {
    "collapsed": true
   },
   "outputs": [],
   "source": [
    "data_path = \"H:\\surfzjy\\workspace\\keras_study\\practise\\swimcat_data\""
   ]
  },
  {
   "cell_type": "code",
   "execution_count": 4,
   "metadata": {
    "collapsed": false
   },
   "outputs": [
    {
     "name": "stdout",
     "output_type": "stream",
     "text": [
      "784 samples in 5 categories\n",
      "The shape of each sample is (125, 125, 3)\n",
      "+---------------+----------------+-------+\n",
      "| Class_name    | Samples_number | Label |\n",
      "+---------------+----------------+-------+\n",
      "| A-sky         |      224       |   0   |\n",
      "| B-pattern     |       89       |   1   |\n",
      "| C-thick-dark  |      251       |   2   |\n",
      "| D-thick-white |      135       |   3   |\n",
      "| E-veil        |       85       |   4   |\n",
      "+---------------+----------------+-------+\n",
      "Generated data_size is (784, 125, 125, 3)\n",
      "Generated labels_size is (784,)\n"
     ]
    }
   ],
   "source": [
    "data, labels = generate_data(data_path)"
   ]
  },
  {
   "cell_type": "code",
   "execution_count": 5,
   "metadata": {
    "collapsed": true
   },
   "outputs": [],
   "source": [
    "np.save('swimcat_data', data)\n",
    "np.save('swimcat_label', labels)"
   ]
  },
  {
   "cell_type": "code",
   "execution_count": 6,
   "metadata": {
    "collapsed": false
   },
   "outputs": [],
   "source": [
    "tmp_data = np.load('swimcat_data.npy')\n",
    "tmp_label = np.load('swimcat_label.npy')"
   ]
  },
  {
   "cell_type": "code",
   "execution_count": 7,
   "metadata": {
    "collapsed": false
   },
   "outputs": [
    {
     "data": {
      "text/plain": [
       "(784, 125, 125, 3)"
      ]
     },
     "execution_count": 7,
     "metadata": {},
     "output_type": "execute_result"
    }
   ],
   "source": [
    "tmp_data.shape"
   ]
  },
  {
   "cell_type": "code",
   "execution_count": 8,
   "metadata": {
    "collapsed": false
   },
   "outputs": [
    {
     "data": {
      "text/plain": [
       "(784,)"
      ]
     },
     "execution_count": 8,
     "metadata": {},
     "output_type": "execute_result"
    }
   ],
   "source": [
    "tmp_label.shape"
   ]
  },
  {
   "cell_type": "code",
   "execution_count": 10,
   "metadata": {
    "collapsed": false
   },
   "outputs": [
    {
     "data": {
      "text/plain": [
       "numpy.ndarray"
      ]
     },
     "execution_count": 10,
     "metadata": {},
     "output_type": "execute_result"
    }
   ],
   "source": [
    "type(tmp_data)"
   ]
  },
  {
   "cell_type": "code",
   "execution_count": null,
   "metadata": {
    "collapsed": true
   },
   "outputs": [],
   "source": []
  }
 ],
 "metadata": {
  "anaconda-cloud": {},
  "kernelspec": {
   "display_name": "Python [conda root]",
   "language": "python",
   "name": "conda-root-py"
  },
  "language_info": {
   "codemirror_mode": {
    "name": "ipython",
    "version": 3
   },
   "file_extension": ".py",
   "mimetype": "text/x-python",
   "name": "python",
   "nbconvert_exporter": "python",
   "pygments_lexer": "ipython3",
   "version": "3.5.2"
  }
 },
 "nbformat": 4,
 "nbformat_minor": 1
}
