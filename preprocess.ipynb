{
 "cells": [
  {
   "cell_type": "code",
   "execution_count": 71,
   "metadata": {
    "collapsed": true
   },
   "outputs": [],
   "source": [
    "import cv2\n",
    "import os \n",
    "import numpy as np"
   ]
  },
  {
   "cell_type": "code",
   "execution_count": 72,
   "metadata": {
    "collapsed": false
   },
   "outputs": [],
   "source": [
    "path = 'H:\\surfzjy\\Cloud_observation\\data\\wholesky'\n",
    "files = os.listdir(path)"
   ]
  },
  {
   "cell_type": "code",
   "execution_count": 73,
   "metadata": {
    "collapsed": false
   },
   "outputs": [],
   "source": [
    "path_list = []\n",
    "nb_classes = len(files)"
   ]
  },
  {
   "cell_type": "code",
   "execution_count": 74,
   "metadata": {
    "collapsed": true
   },
   "outputs": [],
   "source": [
    "i = 0\n",
    "sub_path = path + '\\\\' + files[i]\n",
    "pics = os.listdir(sub_path)\n",
    "nb_pics = len(pics)\n",
    "for j in pics:\n",
    "    img_path = sub_path + '\\\\' + j\n",
    "    if j!='Thumbs.db':\n",
    "        path_list.append(img_path)"
   ]
  },
  {
   "cell_type": "code",
   "execution_count": 75,
   "metadata": {
    "collapsed": false
   },
   "outputs": [],
   "source": [
    "for x in range(len(path_list)):\n",
    "    img = cv2.imread(path_list[x])\n",
    "#     img = cv2.imread(path_list[x], 0)\n",
    "    mask = cv2.imread('mask.png', 0)\n",
    "    masked_img = cv2.bitwise_and(img, img, mask=mask)\n",
    "    resized_img = cv2.resize(masked_img, None, fx=0.25, fy=0.25, interpolation=cv2.INTER_AREA)\n",
    "    new_name = pics[x]\n",
    "    cv2.imwrite(new_name, resized_img)\n",
    "#     cv2.imwrite(new_name, masked_img)\n"
   ]
  },
  {
   "cell_type": "code",
   "execution_count": 6,
   "metadata": {
    "collapsed": false
   },
   "outputs": [],
   "source": [
    "import cv2\n",
    "import os \n",
    "import numpy as np\n",
    "\n",
    "path = 'H:\\surfzjy\\CAMS'\n",
    "files = os.listdir(path)\n",
    "\n",
    "path_list = []\n",
    "nb_classes = len(files)\n",
    "\n",
    "i = 4\n",
    "sub_path = path + '\\\\' + files[i]\n",
    "pics = os.listdir(sub_path)\n",
    "nb_pics = len(pics)\n",
    "for j in pics:\n",
    "    img_path = sub_path + '\\\\' + j\n",
    "    if j!='Thumbs.db':\n",
    "        path_list.append(img_path)\n",
    "        \n",
    "for x in range(len(path_list)):\n",
    "    img = cv2.imread(path_list[x])\n",
    "#     img = cv2.imread(path_list[x], 0)\n",
    "#     mask = cv2.imread('mask.png', 0)\n",
    "#     masked_img = cv2.bitwise_and(img, img, mask=mask)\n",
    "#     resized_img = cv2.resize(masked_img, None, fx=0.25, fy=0.25, interpolation=cv2.INTER_AREA)\n",
    "#     resized_img = cv2.resize(img, None, fx=0.1, fy=0.1, interpolation=cv2.INTER_AREA)\n",
    "#     resized_img = cv2.resize(img, (227, 170), interpolation=cv2.INTER_AREA)\n",
    "    resized_img = cv2.resize(img, (150, 150), interpolation=cv2.INTER_AREA)\n",
    "    new_name = pics[x]\n",
    "    cv2.imwrite(new_name, resized_img)\n",
    "#     cv2.imwrite(new_name, masked_img)"
   ]
  },
  {
   "cell_type": "code",
   "execution_count": 19,
   "metadata": {
    "collapsed": false
   },
   "outputs": [],
   "source": [
    "# image cut\n",
    "import cv2\n",
    "import os \n",
    "import numpy as np\n",
    "path = 'H:\\surfzjy\\casiap'\n",
    "files = os.listdir(path)\n",
    "path_list = []\n",
    "nb_classes = len(files)\n",
    "\n",
    "i = 20\n",
    "\n",
    "sub_path = path + '\\\\' + files[i]\n",
    "pics = os.listdir(sub_path)\n",
    "nb_pics = len(pics)\n",
    "for j in pics:\n",
    "    img_path = sub_path + '\\\\' + j\n",
    "    if j!='Thumbs.db':\n",
    "        path_list.append(img_path)\n",
    "for x in range(len(path_list)):\n",
    "    img = cv2.imread(path_list[x])\n",
    "    content = img[10:1700,285:1975]\n",
    "    new_name = pics[x]\n",
    "    cv2.imwrite(new_name, content)"
   ]
  },
  {
   "cell_type": "code",
   "execution_count": null,
   "metadata": {
    "collapsed": true
   },
   "outputs": [],
   "source": []
  }
 ],
 "metadata": {
  "anaconda-cloud": {},
  "kernelspec": {
   "display_name": "Python [conda root]",
   "language": "python",
   "name": "conda-root-py"
  },
  "language_info": {
   "codemirror_mode": {
    "name": "ipython",
    "version": 3
   },
   "file_extension": ".py",
   "mimetype": "text/x-python",
   "name": "python",
   "nbconvert_exporter": "python",
   "pygments_lexer": "ipython3",
   "version": "3.5.2"
  }
 },
 "nbformat": 4,
 "nbformat_minor": 1
}
