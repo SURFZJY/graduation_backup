{
 "cells": [
  {
   "cell_type": "code",
   "execution_count": 132,
   "metadata": {
    "collapsed": false
   },
   "outputs": [
    {
     "name": "stderr",
     "output_type": "stream",
     "text": [
      "Getting uuid of QR code.\n",
      "Downloading QR code.\n",
      "Please scan the QR code to log in.\n",
      "Please press confirm on your phone.\n",
      "Loading the contact, this may take a little while.\n",
      "Login successfully as 涉小风\n"
     ]
    }
   ],
   "source": [
    "import itchat, time\n",
    "from itchat.content import *\n",
    "itchat.auto_login(True)"
   ]
  },
  {
   "cell_type": "code",
   "execution_count": 133,
   "metadata": {
    "collapsed": true
   },
   "outputs": [],
   "source": [
    "EG_groupchat_id = None\n",
    "chatroom_list = list(itchat.get_chatrooms())\n",
    "for i in chatroom_list:\n",
    "    if i['NickName']== 'E?G!':\n",
    "        EG_groupchat_id = i['UserName']"
   ]
  },
  {
   "cell_type": "code",
   "execution_count": 134,
   "metadata": {
    "collapsed": false
   },
   "outputs": [],
   "source": [
    "import re\n",
    "from wechatsogou import *\n",
    "wechats = WechatSogouApi()"
   ]
  },
  {
   "cell_type": "code",
   "execution_count": 135,
   "metadata": {
    "collapsed": true
   },
   "outputs": [],
   "source": [
    "def getLectureinfo():   \n",
    "    # 通过搜狗微信搜索公众号\n",
    "    name = '机器之心'\n",
    "    wechat_infos = wechats.search_gzh_info(name)\n",
    "    # 第一个搜索的结果的url\n",
    "    url = wechat_infos[0]['url']\n",
    "    # 提取相关信息\n",
    "    data = wechats.get_gzh_message(url=url)\n",
    "    # article_content = wechats.deal_article_content(url='http://mp.weixin.qq.com/s?timestamp=1491966232&src=3&ver=1&signature=WW6CWPhBogYMIwDkIcu*1h79hc2PT8v1f3zJaYlyhbClrpsi2W1DbtWMqEP7m2X-NRHG2LWaSIvcLLTtOkrrAutPOXXed6MUgjW3Btpp2d0*yBTvnxklIU5xL0jD4myHGTA-YsyepoDzr0yziyY*o8eWesy6nfdaJRtdpHN4v2c=')\n",
    "    useful_info_list = [] \n",
    "    for i in data:\n",
    "        tmp = {}\n",
    "        tmp['title'] = i['title']\n",
    "        tmp['digest'] = i['digest']\n",
    "        tmp['content_url'] = i['content_url']\n",
    "        tmp['source_url'] = i['source_url']\n",
    "        useful_info_list.append(tmp)\n",
    "\n",
    "    key_word = ['活动', '讲座']\n",
    "    extract_url_list = []\n",
    "    title_list = []\n",
    "    for i in useful_info_list:\n",
    "        title = i['title']\n",
    "        digest = i['digest']\n",
    "        source_url = i['source_url']\n",
    "        content_url = i['content_url']\n",
    "        for keyword in key_word:\n",
    "    #         print(keyword)\n",
    "            if (keyword in title) or (keyword in digest):\n",
    "    #             print('get')\n",
    "                if title not in title_list:\n",
    "                    extract_url_list.append(title + ' ' + content_url)\n",
    "\n",
    "                title_list.append(title)\n",
    "                title_list = set(title_list)\n",
    "                title_list = list(title_list)\n",
    "\n",
    "        if 'huodongxing' in source_url and (title not in title_list):\n",
    "            extract_url_list.append(title + ' ' + content_url)\n",
    "    output_list = extract_url_list\n",
    "    \n",
    "    # 通过搜狗微信搜索公众号\n",
    "    name = '机器学习研究会'\n",
    "    wechat_infos = wechats.search_gzh_info(name)\n",
    "    # 第一个搜索的结果的url\n",
    "    url = wechat_infos[0]['url']\n",
    "    # 提取相关信息\n",
    "    data = wechats.get_gzh_message(url=url)\n",
    "    # article_content = wechats.deal_article_content(url='http://mp.weixin.qq.com/s?timestamp=1491966232&src=3&ver=1&signature=WW6CWPhBogYMIwDkIcu*1h79hc2PT8v1f3zJaYlyhbClrpsi2W1DbtWMqEP7m2X-NRHG2LWaSIvcLLTtOkrrAutPOXXed6MUgjW3Btpp2d0*yBTvnxklIU5xL0jD4myHGTA-YsyepoDzr0yziyY*o8eWesy6nfdaJRtdpHN4v2c=')\n",
    "    useful_info_list = [] \n",
    "    for i in data:\n",
    "        tmp = {}\n",
    "        tmp['title'] = i['title']\n",
    "        tmp['digest'] = i['digest']\n",
    "        tmp['content_url'] = i['content_url']\n",
    "        tmp['source_url'] = i['source_url']\n",
    "        useful_info_list.append(tmp)\n",
    "\n",
    "    key_word = ['预告', '报名']\n",
    "    extract_url_list = []\n",
    "    title_list = []\n",
    "    for i in useful_info_list:\n",
    "        title = i['title']\n",
    "        digest = i['digest']\n",
    "        source_url = i['source_url']\n",
    "        content_url = i['content_url']\n",
    "        for keyword in key_word:\n",
    "    #         print(keyword)\n",
    "            if (keyword in title) or (keyword in digest):\n",
    "    #             print('get')\n",
    "                if title not in title_list:\n",
    "                    extract_url_list.append(title + ' ' + content_url)\n",
    "\n",
    "                title_list.append(title)\n",
    "                title_list = set(title_list)\n",
    "                title_list = list(title_list)\n",
    "\n",
    "        if 'huodongxing' in source_url and (title not in title_list):\n",
    "            extract_url_list.append(title + ' ' + content_url)\n",
    "    output_list += extract_url_list\n",
    "    \n",
    "    # 通过搜狗微信搜索公众号\n",
    "    name = '机器学习研究会'\n",
    "    wechat_infos = wechats.search_gzh_info(name)\n",
    "    # 第一个搜索的结果的url\n",
    "    url = wechat_infos[0]['url']\n",
    "    # 提取相关信息\n",
    "    data = wechats.get_gzh_message(url=url)\n",
    "    # article_content = wechats.deal_article_content(url='http://mp.weixin.qq.com/s?timestamp=1491966232&src=3&ver=1&signature=WW6CWPhBogYMIwDkIcu*1h79hc2PT8v1f3zJaYlyhbClrpsi2W1DbtWMqEP7m2X-NRHG2LWaSIvcLLTtOkrrAutPOXXed6MUgjW3Btpp2d0*yBTvnxklIU5xL0jD4myHGTA-YsyepoDzr0yziyY*o8eWesy6nfdaJRtdpHN4v2c=')\n",
    "    useful_info_list = [] \n",
    "    for i in data:\n",
    "        tmp = {}\n",
    "        tmp['title'] = i['title']\n",
    "        tmp['digest'] = i['digest']\n",
    "        tmp['content_url'] = i['content_url']\n",
    "        tmp['source_url'] = i['source_url']\n",
    "        useful_info_list.append(tmp)\n",
    "\n",
    "    key_word = ['预告', '报名']\n",
    "    extract_url_list = []\n",
    "    title_list = []\n",
    "    for i in useful_info_list:\n",
    "        title = i['title']\n",
    "        digest = i['digest']\n",
    "        source_url = i['source_url']\n",
    "        content_url = i['content_url']\n",
    "        for keyword in key_word:\n",
    "    #         print(keyword)\n",
    "            if (keyword in title) or (keyword in digest):\n",
    "    #             print('get')\n",
    "                if title not in title_list:\n",
    "                    extract_url_list.append(title + ' ' + content_url)\n",
    "\n",
    "                title_list.append(title)\n",
    "                title_list = set(title_list)\n",
    "                title_list = list(title_list)\n",
    "\n",
    "        if 'huodongxing' in source_url and (title not in title_list):\n",
    "            extract_url_list.append(title + ' ' + content_url)\n",
    "    output_list += extract_url_list    \n",
    "  \n",
    "    return output_list"
   ]
  },
  {
   "cell_type": "code",
   "execution_count": 136,
   "metadata": {
    "collapsed": false
   },
   "outputs": [],
   "source": [
    "@itchat.msg_register([TEXT, MAP, CARD, NOTE, SHARING])\n",
    "def text_reply(msg, isFriendChat=True):\n",
    "    msg['Text'] = '张继元的机器人女盆友正在运行中~该功能只对张继元的部分好友开放，如需更多帮助请联系张继元本人~'\n",
    "    itchat.send(u'%s' % (msg['Text']), msg['FromUserName'])\n",
    "\n",
    "@itchat.msg_register(TEXT, isGroupChat = True)\n",
    "def groupchat_reply(msg):\n",
    "    print(msg)\n",
    "    if msg['isAt'] and '讲座' not in msg['Content']:\n",
    "        msg['Content'] = '不要调戏我！嘤嘤嘤~'\n",
    "        itchat.send(u'%s' % (msg['Content']), msg['FromUserName'])\n",
    "    if msg['isAt'] and '讲座' in msg['Content']:\n",
    "        output_list = getLectureinfo()\n",
    "        for i in output_list:\n",
    "            msg['Content'] = i\n",
    "            itchat.send(u'%s' % (msg['Content']), msg['FromUserName'])\n",
    "    if '讲座' in msg['Content']:\n",
    "        output_list = getLectureinfo()\n",
    "        for i in output_list:\n",
    "            msg['Content'] = i\n",
    "            itchat.send(u'%s' % (msg['Content']), msg['FromUserName'])\n",
    "    if '呼叫继元女盆友' in msg['Content']:\n",
    "        msg['Content'] = '嘤嘤嘤~你不是张继元你喊我干嘛！\\摊手'\n",
    "        itchat.send(u'%s' % (msg['Content']), msg['FromUserName'])"
   ]
  },
  {
   "cell_type": "code",
   "execution_count": 137,
   "metadata": {
    "collapsed": false
   },
   "outputs": [
    {
     "name": "stderr",
     "output_type": "stream",
     "text": [
      "Start auto replying.\n"
     ]
    },
    {
     "name": "stdout",
     "output_type": "stream",
     "text": [
      "{'ImgWidth': 0, 'FileName': '', 'AppMsgType': 0, 'MsgType': 1, 'ToUserName': '@546392248cb60f3bd847fb5255bd213e0e4dee6b400611676758d3fa06d9a193', 'ImgStatus': 1, 'StatusNotifyCode': 0, 'ActualNickName': '叫我小明就好啦', 'ActualUserName': '@6e23ffb9ecc30fc0e52d5a5efdd65dbce6839f8e819b155b04de4b5c84281ece', 'StatusNotifyUserName': '', 'CreateTime': 1492056254, 'Text': '讲座', 'IsAt': False, 'Content': '讲座', 'Ticket': '', 'ForwardFlag': 0, 'Type': 'Text', 'VoiceLength': 0, 'MediaId': '', 'Url': '', 'ImgHeight': 0, 'Status': 3, 'User': <Chatroom: {'HeadImgUrl': '/cgi-bin/mmwebwx-bin/webwxgetheadimg?seq=0&username=@@df7a82df544f87f76f4e2288aff532cc5347f3edb33856207660766f998cefe7&skey=@crypt_39f71398_2f645ecc5a9c5438a99be2b73c5f9fb0', 'IsAdmin': None, 'Statues': 1, 'ChatRoomId': 0, 'AppAccountFlag': 0, 'MemberCount': 4, 'ContactFlag': 3, 'OwnerUin': 0, 'UniFriend': 0, 'Alias': '', 'IsOwner': 0, 'RemarkPYQuanPin': '', 'SnsFlag': 0, 'City': '', 'RemarkName': '', 'Uin': '7998451006@chatroom', 'EncryChatRoomId': '', 'Self': <ChatroomMember: {'RemarkPYQuanPin': '', 'PYQuanPin': '', 'PYInitial': '', 'NickName': '涉小风', 'RemarkPYInitial': '', 'UserName': '@546392248cb60f3bd847fb5255bd213e0e4dee6b400611676758d3fa06d9a193', 'MemberList': <ContactList: []>, 'DisplayName': '张继元的机器人女友', 'AttrStatus': 100768699, 'Uin': 0, 'MemberStatus': 0, 'KeyWord': ''}>, 'KeyWord': '', 'HeadImgUpdateFlag': 1, 'PYQuanPin': 'E?G', 'Signature': '', 'ChatRoomOwner': '@59dda5e2f0da5baeab07f902b560aa86cb54e34b56d0e1b36235043529fd8252', 'VerifyFlag': 0, 'Sex': 0, 'NickName': 'E?G!', 'RemarkPYInitial': '', 'UserName': '@@df7a82df544f87f76f4e2288aff532cc5347f3edb33856207660766f998cefe7', 'MemberList': <ContactList: [<ChatroomMember: {'RemarkPYQuanPin': '', 'PYQuanPin': '', 'PYInitial': '', 'NickName': '时有', 'RemarkPYInitial': '', 'UserName': '@59dda5e2f0da5baeab07f902b560aa86cb54e34b56d0e1b36235043529fd8252', 'MemberList': <ContactList: []>, 'DisplayName': '', 'AttrStatus': 100453, 'Uin': 0, 'MemberStatus': 0, 'KeyWord': ''}>, <ChatroomMember: {'RemarkPYQuanPin': '', 'PYQuanPin': '', 'PYInitial': '', 'NickName': '张继元', 'RemarkPYInitial': '', 'UserName': '@b5dcee6dc1c99d7f3b0be616a34e11a70314acae327ac3ce4f10ae7353787d80', 'MemberList': <ContactList: []>, 'DisplayName': '', 'AttrStatus': 33658983, 'Uin': 0, 'MemberStatus': 0, 'KeyWord': ''}>, <ChatroomMember: {'RemarkPYQuanPin': '', 'PYQuanPin': '', 'PYInitial': '', 'NickName': '叫我小明就好啦', 'RemarkPYInitial': '', 'UserName': '@6e23ffb9ecc30fc0e52d5a5efdd65dbce6839f8e819b155b04de4b5c84281ece', 'MemberList': <ContactList: []>, 'DisplayName': '', 'AttrStatus': 135269, 'Uin': 0, 'MemberStatus': 0, 'KeyWord': ''}>, <ChatroomMember: {'RemarkPYQuanPin': '', 'PYQuanPin': '', 'PYInitial': '', 'NickName': '涉小风', 'RemarkPYInitial': '', 'UserName': '@546392248cb60f3bd847fb5255bd213e0e4dee6b400611676758d3fa06d9a193', 'MemberList': <ContactList: []>, 'DisplayName': '张继元的机器人女友', 'AttrStatus': 100768699, 'Uin': 0, 'MemberStatus': 0, 'KeyWord': ''}>]>, 'DisplayName': '', 'StarFriend': 0, 'AttrStatus': 0, 'PYInitial': 'E?G', 'ContactType': 0, 'Province': '', 'HideInputBarFlag': 0}>, 'FromUserName': '@@df7a82df544f87f76f4e2288aff532cc5347f3edb33856207660766f998cefe7', 'HasProductId': 0, 'OriContent': '', 'MsgId': '8161468245523609866', 'PlayLength': 0, 'NewMsgId': 8161468245523609866, 'AppInfo': {'AppID': '', 'Type': 0}, 'SubMsgType': 0, 'RecommendInfo': {'City': '', 'Signature': '', 'Sex': 0, 'NickName': '', 'QQNum': 0, 'Content': '', 'Scene': 0, 'Alias': '', 'VerifyFlag': 0, 'OpCode': 0, 'AttrStatus': 0, 'Ticket': '', 'UserName': '', 'Province': ''}, 'FileSize': ''}\n",
      "please input code: HnHw\n",
      "{\"ret\":0,\"errmsg\":\"\",\"cookie_count\":0}\n",
      "please input code: OEDB\n",
      "{\"ret\":0,\"errmsg\":\"\",\"cookie_count\":0}\n",
      "{'ImgWidth': 0, 'FileName': '', 'AppMsgType': 0, 'MsgType': 1, 'ToUserName': '@@df7a82df544f87f76f4e2288aff532cc5347f3edb33856207660766f998cefe7', 'ImgStatus': 1, 'StatusNotifyCode': 0, 'ActualNickName': '张继元的机器人女友', 'ActualUserName': '@546392248cb60f3bd847fb5255bd213e0e4dee6b400611676758d3fa06d9a193', 'StatusNotifyUserName': '', 'CreateTime': 1492056433, 'Text': '呼叫继元女盆友', 'IsAt': False, 'Content': '呼叫继元女盆友', 'Ticket': '', 'ForwardFlag': 0, 'Type': 'Text', 'VoiceLength': 0, 'MediaId': '', 'Url': '', 'ImgHeight': 0, 'Status': 3, 'User': <Chatroom: {'HeadImgUrl': '/cgi-bin/mmwebwx-bin/webwxgetheadimg?seq=0&username=@@df7a82df544f87f76f4e2288aff532cc5347f3edb33856207660766f998cefe7&skey=@crypt_39f71398_2f645ecc5a9c5438a99be2b73c5f9fb0', 'IsAdmin': None, 'Statues': 1, 'ChatRoomId': 0, 'AppAccountFlag': 0, 'MemberCount': 4, 'ContactFlag': 3, 'OwnerUin': 0, 'UniFriend': 0, 'Alias': '', 'IsOwner': 0, 'RemarkPYQuanPin': '', 'SnsFlag': 0, 'City': '', 'RemarkName': '', 'Uin': '7998451006@chatroom', 'EncryChatRoomId': '', 'Self': <ChatroomMember: {'RemarkPYQuanPin': '', 'PYQuanPin': '', 'PYInitial': '', 'NickName': '涉小风', 'RemarkPYInitial': '', 'UserName': '@546392248cb60f3bd847fb5255bd213e0e4dee6b400611676758d3fa06d9a193', 'MemberList': <ContactList: []>, 'DisplayName': '张继元的机器人女友', 'AttrStatus': 100768699, 'Uin': 0, 'MemberStatus': 0, 'KeyWord': ''}>, 'KeyWord': '', 'HeadImgUpdateFlag': 1, 'PYQuanPin': 'E?G', 'Signature': '', 'ChatRoomOwner': '@59dda5e2f0da5baeab07f902b560aa86cb54e34b56d0e1b36235043529fd8252', 'VerifyFlag': 0, 'Sex': 0, 'NickName': 'E?G!', 'RemarkPYInitial': '', 'UserName': '@@df7a82df544f87f76f4e2288aff532cc5347f3edb33856207660766f998cefe7', 'MemberList': <ContactList: [<ChatroomMember: {'RemarkPYQuanPin': '', 'PYQuanPin': '', 'PYInitial': '', 'NickName': '时有', 'RemarkPYInitial': '', 'UserName': '@59dda5e2f0da5baeab07f902b560aa86cb54e34b56d0e1b36235043529fd8252', 'MemberList': <ContactList: []>, 'DisplayName': '', 'AttrStatus': 100453, 'Uin': 0, 'MemberStatus': 0, 'KeyWord': ''}>, <ChatroomMember: {'RemarkPYQuanPin': '', 'PYQuanPin': '', 'PYInitial': '', 'NickName': '张继元', 'RemarkPYInitial': '', 'UserName': '@b5dcee6dc1c99d7f3b0be616a34e11a70314acae327ac3ce4f10ae7353787d80', 'MemberList': <ContactList: []>, 'DisplayName': '', 'AttrStatus': 33658983, 'Uin': 0, 'MemberStatus': 0, 'KeyWord': ''}>, <ChatroomMember: {'RemarkPYQuanPin': '', 'PYQuanPin': '', 'PYInitial': '', 'NickName': '叫我小明就好啦', 'RemarkPYInitial': '', 'UserName': '@6e23ffb9ecc30fc0e52d5a5efdd65dbce6839f8e819b155b04de4b5c84281ece', 'MemberList': <ContactList: []>, 'DisplayName': '', 'AttrStatus': 135269, 'Uin': 0, 'MemberStatus': 0, 'KeyWord': ''}>, <ChatroomMember: {'RemarkPYQuanPin': '', 'PYQuanPin': '', 'PYInitial': '', 'NickName': '涉小风', 'RemarkPYInitial': '', 'UserName': '@546392248cb60f3bd847fb5255bd213e0e4dee6b400611676758d3fa06d9a193', 'MemberList': <ContactList: []>, 'DisplayName': '张继元的机器人女友', 'AttrStatus': 100768699, 'Uin': 0, 'MemberStatus': 0, 'KeyWord': ''}>]>, 'DisplayName': '', 'StarFriend': 0, 'AttrStatus': 0, 'PYInitial': 'E?G', 'ContactType': 0, 'Province': '', 'HideInputBarFlag': 0}>, 'FromUserName': '@546392248cb60f3bd847fb5255bd213e0e4dee6b400611676758d3fa06d9a193', 'HasProductId': 0, 'OriContent': '', 'MsgId': '1138226427666225621', 'PlayLength': 0, 'NewMsgId': 1138226427666225621, 'AppInfo': {'AppID': '', 'Type': 0}, 'SubMsgType': 0, 'RecommendInfo': {'City': '', 'Signature': '', 'Sex': 0, 'NickName': '', 'QQNum': 0, 'Content': '', 'Scene': 0, 'Alias': '', 'VerifyFlag': 0, 'OpCode': 0, 'AttrStatus': 0, 'Ticket': '', 'UserName': '', 'Province': ''}, 'FileSize': ''}\n",
      "{'ImgWidth': 0, 'FileName': '', 'AppMsgType': 0, 'MsgType': 1, 'ToUserName': '@546392248cb60f3bd847fb5255bd213e0e4dee6b400611676758d3fa06d9a193', 'ImgStatus': 1, 'StatusNotifyCode': 0, 'ActualNickName': '时有', 'ActualUserName': '@59dda5e2f0da5baeab07f902b560aa86cb54e34b56d0e1b36235043529fd8252', 'StatusNotifyUserName': '', 'CreateTime': 1492056552, 'Text': '去哪吃', 'IsAt': False, 'Content': '去哪吃', 'Ticket': '', 'ForwardFlag': 0, 'Type': 'Text', 'VoiceLength': 0, 'MediaId': '', 'Url': '', 'ImgHeight': 0, 'Status': 3, 'User': <Chatroom: {'HeadImgUrl': '/cgi-bin/mmwebwx-bin/webwxgetheadimg?seq=0&username=@@df7a82df544f87f76f4e2288aff532cc5347f3edb33856207660766f998cefe7&skey=@crypt_39f71398_2f645ecc5a9c5438a99be2b73c5f9fb0', 'IsAdmin': None, 'Statues': 1, 'ChatRoomId': 0, 'AppAccountFlag': 0, 'MemberCount': 4, 'ContactFlag': 3, 'OwnerUin': 0, 'UniFriend': 0, 'Alias': '', 'IsOwner': 0, 'RemarkPYQuanPin': '', 'SnsFlag': 0, 'City': '', 'RemarkName': '', 'Uin': '7998451006@chatroom', 'EncryChatRoomId': '', 'Self': <ChatroomMember: {'RemarkPYQuanPin': '', 'PYQuanPin': '', 'PYInitial': '', 'NickName': '涉小风', 'RemarkPYInitial': '', 'UserName': '@546392248cb60f3bd847fb5255bd213e0e4dee6b400611676758d3fa06d9a193', 'MemberList': <ContactList: []>, 'DisplayName': '张继元的机器人女友', 'AttrStatus': 100768699, 'Uin': 0, 'MemberStatus': 0, 'KeyWord': ''}>, 'KeyWord': '', 'HeadImgUpdateFlag': 1, 'PYQuanPin': 'E?G', 'Signature': '', 'ChatRoomOwner': '@59dda5e2f0da5baeab07f902b560aa86cb54e34b56d0e1b36235043529fd8252', 'VerifyFlag': 0, 'Sex': 0, 'NickName': 'E?G!', 'RemarkPYInitial': '', 'UserName': '@@df7a82df544f87f76f4e2288aff532cc5347f3edb33856207660766f998cefe7', 'MemberList': <ContactList: [<ChatroomMember: {'RemarkPYQuanPin': '', 'PYQuanPin': '', 'PYInitial': '', 'NickName': '时有', 'RemarkPYInitial': '', 'UserName': '@59dda5e2f0da5baeab07f902b560aa86cb54e34b56d0e1b36235043529fd8252', 'MemberList': <ContactList: []>, 'DisplayName': '', 'AttrStatus': 100453, 'Uin': 0, 'MemberStatus': 0, 'KeyWord': ''}>, <ChatroomMember: {'RemarkPYQuanPin': '', 'PYQuanPin': '', 'PYInitial': '', 'NickName': '张继元', 'RemarkPYInitial': '', 'UserName': '@b5dcee6dc1c99d7f3b0be616a34e11a70314acae327ac3ce4f10ae7353787d80', 'MemberList': <ContactList: []>, 'DisplayName': '', 'AttrStatus': 33658983, 'Uin': 0, 'MemberStatus': 0, 'KeyWord': ''}>, <ChatroomMember: {'RemarkPYQuanPin': '', 'PYQuanPin': '', 'PYInitial': '', 'NickName': '叫我小明就好啦', 'RemarkPYInitial': '', 'UserName': '@6e23ffb9ecc30fc0e52d5a5efdd65dbce6839f8e819b155b04de4b5c84281ece', 'MemberList': <ContactList: []>, 'DisplayName': '', 'AttrStatus': 135269, 'Uin': 0, 'MemberStatus': 0, 'KeyWord': ''}>, <ChatroomMember: {'RemarkPYQuanPin': '', 'PYQuanPin': '', 'PYInitial': '', 'NickName': '涉小风', 'RemarkPYInitial': '', 'UserName': '@546392248cb60f3bd847fb5255bd213e0e4dee6b400611676758d3fa06d9a193', 'MemberList': <ContactList: []>, 'DisplayName': '张继元的机器人女友', 'AttrStatus': 100768699, 'Uin': 0, 'MemberStatus': 0, 'KeyWord': ''}>]>, 'DisplayName': '', 'StarFriend': 0, 'AttrStatus': 0, 'PYInitial': 'E?G', 'ContactType': 0, 'Province': '', 'HideInputBarFlag': 0}>, 'FromUserName': '@@df7a82df544f87f76f4e2288aff532cc5347f3edb33856207660766f998cefe7', 'HasProductId': 0, 'OriContent': '', 'MsgId': '2005862379330932287', 'PlayLength': 0, 'NewMsgId': 2005862379330932287, 'AppInfo': {'AppID': '', 'Type': 0}, 'SubMsgType': 0, 'RecommendInfo': {'City': '', 'Signature': '', 'Sex': 0, 'NickName': '', 'QQNum': 0, 'Content': '', 'Scene': 0, 'Alias': '', 'VerifyFlag': 0, 'OpCode': 0, 'AttrStatus': 0, 'Ticket': '', 'UserName': '', 'Province': ''}, 'FileSize': ''}\n"
     ]
    },
    {
     "name": "stderr",
     "output_type": "stream",
     "text": [
      "LOG OUT!\n"
     ]
    }
   ],
   "source": [
    "itchat.run()"
   ]
  },
  {
   "cell_type": "code",
   "execution_count": null,
   "metadata": {
    "collapsed": true
   },
   "outputs": [],
   "source": []
  }
 ],
 "metadata": {
  "anaconda-cloud": {},
  "kernelspec": {
   "display_name": "Python [conda root]",
   "language": "python",
   "name": "conda-root-py"
  },
  "language_info": {
   "codemirror_mode": {
    "name": "ipython",
    "version": 3
   },
   "file_extension": ".py",
   "mimetype": "text/x-python",
   "name": "python",
   "nbconvert_exporter": "python",
   "pygments_lexer": "ipython3",
   "version": "3.5.2"
  }
 },
 "nbformat": 4,
 "nbformat_minor": 1
}
