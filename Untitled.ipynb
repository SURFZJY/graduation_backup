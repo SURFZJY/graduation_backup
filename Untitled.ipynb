{
 "cells": [
  {
   "cell_type": "code",
   "execution_count": 1,
   "metadata": {
    "collapsed": true
   },
   "outputs": [],
   "source": [
    "import cv2\n",
    "import os \n",
    "import numpy as np\n",
    "\n",
    "path = 'H:\\surfzjy\\Cloud_observation\\data\\wholesky'\n",
    "files = os.listdir(path)\n",
    "\n",
    "path_list = []\n",
    "nb_classes = len(files)\n",
    "\n",
    "i = 0\n",
    "sub_path = path + '\\\\' + files[i]\n",
    "pics = os.listdir(sub_path)\n",
    "nb_pics = len(pics)\n",
    "for j in pics:\n",
    "    img_path = sub_path + '\\\\' + j\n",
    "    if j!='Thumbs.db':\n",
    "        path_list.append(img_path)\n",
    "        \n",
    "for x in range(len(path_list)):\n",
    "    img = cv2.imread(path_list[x], 0)\n",
    "    mask = cv2.imread('m2.jpg', 0)\n",
    "    masked_img = cv2.bitwise_and(img, img, mask=mask)\n",
    "#     resized_img = cv2.resize(masked_img, None, fx=0.25, fy=0.25, interpolation=cv2.INTER_AREA)\n",
    "    new_name = pics[x]\n",
    "#     cv2.imwrite(new_name, resized_img)\n",
    "    cv2.imwrite(new_name, masked_img)"
   ]
  }
 ],
 "metadata": {
  "kernelspec": {
   "display_name": "Python [conda root]",
   "language": "python",
   "name": "conda-root-py"
  },
  "language_info": {
   "codemirror_mode": {
    "name": "ipython",
    "version": 3
   },
   "file_extension": ".py",
   "mimetype": "text/x-python",
   "name": "python",
   "nbconvert_exporter": "python",
   "pygments_lexer": "ipython3",
   "version": "3.5.2"
  }
 },
 "nbformat": 4,
 "nbformat_minor": 1
}
