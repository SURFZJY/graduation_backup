{
 "cells": [
  {
   "cell_type": "code",
   "execution_count": 1,
   "metadata": {
    "collapsed": true
   },
   "outputs": [],
   "source": [
    "import cv2\n",
    "import numpy as np \n",
    "from skimage.segmentation import slic, mark_boundaries\n",
    "from skimage.util import img_as_float\n",
    "from matplotlib import pyplot as plt"
   ]
  },
  {
   "cell_type": "code",
   "execution_count": 56,
   "metadata": {
    "collapsed": false
   },
   "outputs": [],
   "source": [
    "img_path = '0572.png'\n",
    "\n",
    "img = cv2.imread(img_path)\n",
    "b,g,r = cv2.split(img)\n",
    "B = np.array(b)\n",
    "R = np.array(r)\n",
    "row, col = img.shape[0], img.shape[1]"
   ]
  },
  {
   "cell_type": "code",
   "execution_count": 135,
   "metadata": {
    "collapsed": true
   },
   "outputs": [],
   "source": [
    "# 阈值法 \n",
    "# R/B > 0.6 为云，否则为天空\n",
    "def method_1(thresh=0.6):\n",
    "    tmp = R / B\n",
    "    for i in range(row):\n",
    "        for j in range(col):\n",
    "            if tmp[i][j] > thresh:\n",
    "                tmp[i][j] = 255\n",
    "            else:\n",
    "                tmp[i][j] = 0\n",
    "    return tmp        "
   ]
  },
  {
   "cell_type": "code",
   "execution_count": 136,
   "metadata": {
    "collapsed": false
   },
   "outputs": [
    {
     "data": {
      "text/plain": [
       "True"
      ]
     },
     "execution_count": 136,
     "metadata": {},
     "output_type": "execute_result"
    }
   ],
   "source": [
    "seg_img = method_1(0.6)\n",
    "name = img_path.split('.')[0] + '_Ratio_0.6' + '.png'\n",
    "cv2.imwrite(name, seg_img)"
   ]
  },
  {
   "cell_type": "code",
   "execution_count": 59,
   "metadata": {
    "collapsed": true
   },
   "outputs": [],
   "source": [
    "# 阈值法 \n",
    "# B/R < 1.3 为云，否则为天空\n",
    "def method_2(thresh=1.2):\n",
    "    tmp = B / R\n",
    "    for i in range(row):\n",
    "        for j in range(col):\n",
    "            if tmp[i][j] < thresh:\n",
    "                tmp[i][j] = 255\n",
    "            else:\n",
    "                tmp[i][j] = 0\n",
    "    return tmp      "
   ]
  },
  {
   "cell_type": "code",
   "execution_count": 60,
   "metadata": {
    "collapsed": false
   },
   "outputs": [
    {
     "data": {
      "text/plain": [
       "True"
      ]
     },
     "execution_count": 60,
     "metadata": {},
     "output_type": "execute_result"
    }
   ],
   "source": [
    "seg_img = method_2(1.2)\n",
    "name = img_path.split('.')[0] + '_Ratio_1.2' + '.png'\n",
    "cv2.imwrite(name, seg_img)"
   ]
  },
  {
   "cell_type": "code",
   "execution_count": 139,
   "metadata": {
    "collapsed": true
   },
   "outputs": [],
   "source": [
    "# 阈值法\n",
    "# B-R > 30 为天空， 否则为云\n",
    "def method_3(thresh=30):\n",
    "    v = np.empty((row,col))\n",
    "    tmp = B-R\n",
    "    tmp = tmp.astype(np.int8)\n",
    "    for i in range(row):\n",
    "        for j in range(col):\n",
    "            if tmp[i][j] > thresh:\n",
    "                v[i][j] = 0\n",
    "            else:\n",
    "                v[i][j] = 255\n",
    "    return v"
   ]
  },
  {
   "cell_type": "code",
   "execution_count": 140,
   "metadata": {
    "collapsed": false
   },
   "outputs": [
    {
     "data": {
      "text/plain": [
       "True"
      ]
     },
     "execution_count": 140,
     "metadata": {},
     "output_type": "execute_result"
    }
   ],
   "source": [
    "seg_img = method_3(30)\n",
    "name = img_path.split('.')[0] + '_Diff' + '.png'\n",
    "cv2.imwrite(name, seg_img)"
   ]
  },
  {
   "cell_type": "code",
   "execution_count": 141,
   "metadata": {
    "collapsed": true
   },
   "outputs": [],
   "source": [
    "# 自适应阈值法\n",
    "# 根据R-B的结果用Ostu法选择阈值\n",
    "def method_4():\n",
    "    tmp = R-B\n",
    "    tmp.dtype=np.int8\n",
    "    tmp = tmp.astype(np.int16)\n",
    "    tmp = tmp-tmp.min()\n",
    "    tmp = tmp.astype(np.uint8)\n",
    "    thres, res = cv2.threshold(tmp,0,255,cv2.THRESH_BINARY+cv2.THRESH_OTSU)\n",
    "    return res"
   ]
  },
  {
   "cell_type": "code",
   "execution_count": 142,
   "metadata": {
    "collapsed": false
   },
   "outputs": [
    {
     "data": {
      "text/plain": [
       "True"
      ]
     },
     "execution_count": 142,
     "metadata": {},
     "output_type": "execute_result"
    }
   ],
   "source": [
    "seg_img = method_4()\n",
    "name = img_path.split('.')[0] + '_Adap' + '.png'\n",
    "cv2.imwrite(name, seg_img)"
   ]
  },
  {
   "cell_type": "code",
   "execution_count": 143,
   "metadata": {
    "collapsed": true
   },
   "outputs": [],
   "source": [
    "# 自动图割法 AGC\n",
    "def method_5():\n",
    "    tmp = R / B\n",
    "    x = (tmp-tmp.min())/(tmp.max()-tmp.min())*255\n",
    "    x = np.round(x)\n",
    "    x = x.astype(np.uint8)\n",
    "    T, res = cv2.threshold(x,0,255,cv2.THRESH_BINARY+cv2.THRESH_OTSU)\n",
    "    theta = 1.3\n",
    "    hand_constraint = np.zeros((x.shape[0],x.shape[1]), np.uint8)\n",
    "    for i in range(x.shape[0]):\n",
    "        for j in range(x.shape[1]):\n",
    "            if x[i][j] > theta * T:\n",
    "                hand_constraint[i][j] = 1\n",
    "            elif x[i][j] < 1 / theta * T:\n",
    "                hand_constraint[i][j] = 0\n",
    "            else:\n",
    "                hand_constraint[i][j] = 2\n",
    "    bgdModel = np.zeros((1,65), np.float64)\n",
    "    fgdModel = np.zeros((1,65), np.float64)\n",
    "    mask, bgdModel, fgdModel = cv2.grabCut(img, hand_constraint, None, bgdModel, fgdModel, iterCount=5, mode=cv2.GC_INIT_WITH_MASK )\n",
    "    mask = np.where((mask==1),1,0).astype('uint8')\n",
    "    mask = mask*255\n",
    "    return mask"
   ]
  },
  {
   "cell_type": "code",
   "execution_count": 144,
   "metadata": {
    "collapsed": false
   },
   "outputs": [
    {
     "data": {
      "text/plain": [
       "True"
      ]
     },
     "execution_count": 144,
     "metadata": {},
     "output_type": "execute_result"
    }
   ],
   "source": [
    "seg_img = method_5()\n",
    "name = img_path.split('.')[0] + '_AGC' + '.png'\n",
    "cv2.imwrite(name, seg_img)"
   ]
  },
  {
   "cell_type": "code",
   "execution_count": 28,
   "metadata": {
    "collapsed": true
   },
   "outputs": [],
   "source": [
    "# SLIC + B/R\n",
    "def method_6():\n",
    "    segments = slic(img_as_float(img), n_segments = 300, sigma = 5)\n",
    "    img_float = img_as_float(img)\n",
    "    b, g, r = cv2.split(img_float)\n",
    "    row, col = img.shape[0], img.shape[1]\n",
    "    res = np.zeros((row,col))\n",
    "    sum_r_list = np.zeros((np.max(segments)+1, 1))\n",
    "    sum_b_list = np.zeros((np.max(segments)+1, 1))\n",
    "    for i in range(row):\n",
    "        for j in range(col):\n",
    "            label = segments[i][j]\n",
    "            sum_r_list[label] += r[i][j]\n",
    "            sum_b_list[label] += b[i][j]\n",
    "    r_b_list = sum_b_list / sum_r_list\n",
    "    for i in range(row):\n",
    "        for j in range(col):\n",
    "            label = segments[i][j]\n",
    "            if r_b_list[label] < 1.2:\n",
    "                res[i][j] = 255\n",
    "            else:\n",
    "                res[i][j] = 0\n",
    "    return res"
   ]
  },
  {
   "cell_type": "code",
   "execution_count": 29,
   "metadata": {
    "collapsed": false
   },
   "outputs": [
    {
     "data": {
      "text/plain": [
       "True"
      ]
     },
     "execution_count": 29,
     "metadata": {},
     "output_type": "execute_result"
    }
   ],
   "source": [
    "seg_img = method_6()\n",
    "name = img_path.split('.')[0] + '_SLIC_1.2' + '.png'\n",
    "cv2.imwrite(name, seg_img)"
   ]
  },
  {
   "cell_type": "code",
   "execution_count": null,
   "metadata": {
    "collapsed": true
   },
   "outputs": [],
   "source": []
  }
 ],
 "metadata": {
  "anaconda-cloud": {},
  "kernelspec": {
   "display_name": "Python [conda root]",
   "language": "python",
   "name": "conda-root-py"
  },
  "language_info": {
   "codemirror_mode": {
    "name": "ipython",
    "version": 3
   },
   "file_extension": ".py",
   "mimetype": "text/x-python",
   "name": "python",
   "nbconvert_exporter": "python",
   "pygments_lexer": "ipython3",
   "version": "3.5.2"
  }
 },
 "nbformat": 4,
 "nbformat_minor": 1
}
