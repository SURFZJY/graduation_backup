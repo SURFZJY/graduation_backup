{
 "cells": [
  {
   "cell_type": "code",
   "execution_count": 15,
   "metadata": {
    "collapsed": false
   },
   "outputs": [],
   "source": [
    "import os \n",
    "import numpy as np\n",
    "import cv2\n",
    "from PIL import Image\n",
    "from keras.preprocessing.image import load_img , img_to_array\n",
    "from keras.models import Sequential, load_model\n",
    "from keras.utils import np_utils"
   ]
  },
  {
   "cell_type": "code",
   "execution_count": 19,
   "metadata": {
    "collapsed": true
   },
   "outputs": [],
   "source": [
    "file_path = r'H:\\surfzjy\\CAMS_Data\\CAMS_tiny\\cirrus'\n",
    "model_path = r'H:\\surfzjy\\cloud_detection\\CMAS_tiny_0420.h5'\n",
    "model = load_model(model_path)"
   ]
  },
  {
   "cell_type": "code",
   "execution_count": 20,
   "metadata": {
    "collapsed": true
   },
   "outputs": [],
   "source": [
    "path_item = file_path.split('\\\\')\n",
    "parent_dir = path_item[0]\n",
    "for i in path_item[1:-1]:\n",
    "    parent_dir += '\\\\'\n",
    "    parent_dir += i\n",
    "save_dir = parent_dir + '\\\\' + path_item[-1] + '_pred\\\\'"
   ]
  },
  {
   "cell_type": "code",
   "execution_count": 21,
   "metadata": {
    "collapsed": false
   },
   "outputs": [],
   "source": [
    "files = os.listdir(file_path)"
   ]
  },
  {
   "cell_type": "code",
   "execution_count": 22,
   "metadata": {
    "collapsed": true
   },
   "outputs": [],
   "source": [
    "if not os.path.exists(save_dir):\n",
    "    os.makedirs(save_dir)"
   ]
  },
  {
   "cell_type": "code",
   "execution_count": 23,
   "metadata": {
    "collapsed": false
   },
   "outputs": [],
   "source": [
    "save_dir_files = os.listdir(save_dir)\n",
    "nb_files = len(save_dir_files)\n",
    "cloud_name = ['1_cirrus', '2_clear', '3_cumulus', '4_hybrid', '5_stratus']\n",
    "# cloud_name = ['1_cummulus', '2_cirrus', '3_altocumulus', '4_clearsky', '5_stratocumulus', '6_stratus', '7_cumulonimbus']"
   ]
  },
  {
   "cell_type": "code",
   "execution_count": 24,
   "metadata": {
    "collapsed": false
   },
   "outputs": [],
   "source": [
    "for i in files[nb_files:]:\n",
    "    img_path = file_path + '\\\\' + i\n",
    "    img = cv2.imread(img_path)\n",
    "    resized_img = cv2.resize(img, (200, 200), interpolation=cv2.INTER_AREA)\n",
    "#     resized_img = cv2.resize(img, (150, 150), interpolation=cv2.INTER_AREA)\n",
    "    new_img = Image.fromarray(resized_img)\n",
    "    x = img_to_array(new_img)\n",
    "    x = np.array(x)\n",
    "    x /= 255\n",
    "    x = x[np.newaxis, ...]\n",
    "    res = model.predict(x)\n",
    "    pred_label = np.argmax(res)\n",
    "    new_name = save_dir + i.split('.')[0] + '_' + cloud_name[pred_label] + '.jpg'\n",
    "    cv2.imwrite(new_name, img)"
   ]
  },
  {
   "cell_type": "code",
   "execution_count": null,
   "metadata": {
    "collapsed": true
   },
   "outputs": [],
   "source": []
  },
  {
   "cell_type": "code",
   "execution_count": null,
   "metadata": {
    "collapsed": true
   },
   "outputs": [],
   "source": []
  }
 ],
 "metadata": {
  "anaconda-cloud": {},
  "kernelspec": {
   "display_name": "Python [conda root]",
   "language": "python",
   "name": "conda-root-py"
  },
  "language_info": {
   "codemirror_mode": {
    "name": "ipython",
    "version": 3
   },
   "file_extension": ".py",
   "mimetype": "text/x-python",
   "name": "python",
   "nbconvert_exporter": "python",
   "pygments_lexer": "ipython3",
   "version": "3.5.2"
  }
 },
 "nbformat": 4,
 "nbformat_minor": 1
}
