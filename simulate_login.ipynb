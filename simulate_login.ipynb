{
 "cells": [
  {
   "cell_type": "code",
   "execution_count": 1,
   "metadata": {
    "collapsed": true
   },
   "outputs": [],
   "source": [
    "import time, requests"
   ]
  },
  {
   "cell_type": "code",
   "execution_count": 2,
   "metadata": {
    "collapsed": true
   },
   "outputs": [],
   "source": [
    "session = requests.Session()"
   ]
  },
  {
   "cell_type": "code",
   "execution_count": 3,
   "metadata": {
    "collapsed": true
   },
   "outputs": [],
   "source": [
    "url = 'https://login.weixin.qq.com/jslogin'"
   ]
  },
  {
   "cell_type": "code",
   "execution_count": 4,
   "metadata": {
    "collapsed": true
   },
   "outputs": [],
   "source": [
    "params = {\n",
    "    'appid': 'wx782c26e4c19acffb',\n",
    "    'redirect_uri': 'https://wx.qq.com/cgi-bin/mmwebwx-bin/webwxnewloginpage',\n",
    "    'fun': 'new',\n",
    "    'lang': 'zh_CN',\n",
    "    '_': int(time.time()),\n",
    "    }"
   ]
  },
  {
   "cell_type": "code",
   "execution_count": 5,
   "metadata": {
    "collapsed": false
   },
   "outputs": [
    {
     "name": "stdout",
     "output_type": "stream",
     "text": [
      "Content: window.QRLogin.code = 200; window.QRLogin.uuid = \"AdXre90fVw==\";\n"
     ]
    }
   ],
   "source": [
    "r = session.get(url, params = params)\n",
    "print('Content: %s'%r.text)"
   ]
  },
  {
   "cell_type": "code",
   "execution_count": 6,
   "metadata": {
    "collapsed": false
   },
   "outputs": [
    {
     "name": "stdout",
     "output_type": "stream",
     "text": [
      "uuid: AdXre90fVw==\n"
     ]
    }
   ],
   "source": [
    "import re\n",
    "regx = r'window.QRLogin.code = (\\d+); window.QRLogin.uuid = \"(\\S+?)\";'\n",
    "# 我们可以看到返回的量是上述的格式，括号内的内容被提取了出来\n",
    "data = re.search(regx, r.text)\n",
    "if data and data.group(1) == '200': \n",
    "    uuid = data.group(2)\n",
    "print('uuid: %s'%uuid)"
   ]
  },
  {
   "cell_type": "code",
   "execution_count": 8,
   "metadata": {
    "collapsed": false
   },
   "outputs": [],
   "source": [
    "url = 'https://login.weixin.qq.com/qrcode/' + uuid\n",
    "# 由于我们需要获取图像，所以需要以二进制数据流的形式获取服务器返回的数据包，所以增加stream = True\n",
    "r = session.get(url, stream = True)\n",
    "with open('QRCode.jpg', 'wb') as f: f.write(r.content)\n",
    "# 现在你可以在你存储代码的位置发现一张存下来的图片，用下面的代码打开它\n",
    "import platform, os, subprocess\n",
    "if platform.system() == 'Darwin':\n",
    "    subprocess.call(['open', 'QRCode.jpg'])\n",
    "elif platform.system() == 'Linux':\n",
    "    subprocess.call(['xdg-open', 'QRCode.jpg'])\n",
    "else:\n",
    "    os.startfile('QRCode.jpg')"
   ]
  },
  {
   "cell_type": "code",
   "execution_count": 9,
   "metadata": {
    "collapsed": false
   },
   "outputs": [
    {
     "name": "stdout",
     "output_type": "stream",
     "text": [
      "Login successfully\n"
     ]
    }
   ],
   "source": [
    "while 1:\n",
    "    url = 'https://login.weixin.qq.com/cgi-bin/mmwebwx-bin/login'\n",
    "    # 这里演示一下不使用自带的urlencode\n",
    "    params = 'tip=0&uuid=%s&_=%s'%(uuid, int(time.time()))\n",
    "    r = session.get(url, params = params)\n",
    "    regx = r'window.code=(\\d+)'\n",
    "    data = re.search(regx, r.text)\n",
    "    if not data: continue\n",
    "    if data.group(1) == '200':\n",
    "        # 下面一段是为了之后获取登录信息做准备\n",
    "        uriRegex = r'window.redirect_uri=\"(\\S+)\";'\n",
    "        redirectUri = re.search(uriRegex, r.text).group(1)\n",
    "        r = session.get(redirectUri, allow_redirects=False)\n",
    "        redirectUri = redirectUri[:redirectUri.rfind('/')]\n",
    "        baseRequestText = r.text\n",
    "        break\n",
    "    elif data.group(1) == '201':\n",
    "        print('You have scanned the QRCode')\n",
    "        time.sleep(1)\n",
    "    elif data.group(1) == '408':\n",
    "        raise Exception('QRCode should be renewed')\n",
    "print('Login successfully')"
   ]
  },
  {
   "cell_type": "code",
   "execution_count": 11,
   "metadata": {
    "collapsed": false
   },
   "outputs": [
    {
     "ename": "NameError",
     "evalue": "name 'json' is not defined",
     "output_type": "error",
     "traceback": [
      "\u001b[0;31m---------------------------------------------------------------------------\u001b[0m",
      "\u001b[0;31mNameError\u001b[0m                                 Traceback (most recent call last)",
      "\u001b[0;32m<ipython-input-11-1f159941d947>\u001b[0m in \u001b[0;36m<module>\u001b[0;34m()\u001b[0m\n\u001b[1;32m     19\u001b[0m }\n\u001b[1;32m     20\u001b[0m \u001b[0mheaders\u001b[0m \u001b[1;33m=\u001b[0m \u001b[1;33m{\u001b[0m \u001b[1;34m'ContentType'\u001b[0m\u001b[1;33m:\u001b[0m \u001b[1;34m'application/json; charset=UTF-8'\u001b[0m \u001b[1;33m}\u001b[0m\u001b[1;33m\u001b[0m\u001b[0m\n\u001b[0;32m---> 21\u001b[0;31m \u001b[0mr\u001b[0m \u001b[1;33m=\u001b[0m \u001b[0msession\u001b[0m\u001b[1;33m.\u001b[0m\u001b[0mpost\u001b[0m\u001b[1;33m(\u001b[0m\u001b[0murl\u001b[0m\u001b[1;33m,\u001b[0m \u001b[0mdata\u001b[0m \u001b[1;33m=\u001b[0m \u001b[0mjson\u001b[0m\u001b[1;33m.\u001b[0m\u001b[0mdumps\u001b[0m\u001b[1;33m(\u001b[0m\u001b[0mdata\u001b[0m\u001b[1;33m)\u001b[0m\u001b[1;33m,\u001b[0m \u001b[0mheaders\u001b[0m \u001b[1;33m=\u001b[0m \u001b[0mheaders\u001b[0m\u001b[1;33m)\u001b[0m\u001b[1;33m\u001b[0m\u001b[0m\n\u001b[0m\u001b[1;32m     22\u001b[0m \u001b[1;31m# dic = json.loads(r.content.decode('utf-8', 'replace'))\u001b[0m\u001b[1;33m\u001b[0m\u001b[1;33m\u001b[0m\u001b[0m\n\u001b[1;32m     23\u001b[0m \u001b[1;33m\u001b[0m\u001b[0m\n",
      "\u001b[0;31mNameError\u001b[0m: name 'json' is not defined"
     ]
    }
   ],
   "source": [
    "import xml.dom.minidom\n",
    "def get_login_info(s):\n",
    "    baseRequest = {}\n",
    "    for node in xml.dom.minidom.parseString(s).documentElement.childNodes:\n",
    "        if node.nodeName == 'skey':\n",
    "            baseRequest['Skey'] = node.childNodes[0].data.encode('utf8')\n",
    "        elif node.nodeName == 'wxsid':\n",
    "            baseRequest['Sid'] = node.childNodes[0].data.encode('utf8')\n",
    "        elif node.nodeName == 'wxuin':\n",
    "            baseRequest['Uin'] = node.childNodes[0].data.encode('utf8')\n",
    "        elif node.nodeName == 'pass_ticket':\n",
    "            baseRequest['DeviceID'] = node.childNodes[0].data.encode('utf8')\n",
    "    return baseRequest\n",
    "baseRequest = get_login_info(baseRequestText)\n",
    "\n",
    "url = '%s/webwxinit?r=%s' % (redirectUri, int(time.time()))\n",
    "data = {\n",
    "    'BaseRequest': baseRequest,\n",
    "}\n",
    "headers = { 'ContentType': 'application/json; charset=UTF-8' }\n",
    "r = session.post(url, data = json.dumps(data), headers = headers)\n",
    "dic = json.loads(r.content.decode('utf-8', 'replace'))\n",
    "\n",
    "print('Log in as %s'%dic['User']['NickName'])"
   ]
  },
  {
   "cell_type": "code",
   "execution_count": null,
   "metadata": {
    "collapsed": true
   },
   "outputs": [],
   "source": []
  }
 ],
 "metadata": {
  "anaconda-cloud": {},
  "kernelspec": {
   "display_name": "Python [conda root]",
   "language": "python",
   "name": "conda-root-py"
  },
  "language_info": {
   "codemirror_mode": {
    "name": "ipython",
    "version": 3
   },
   "file_extension": ".py",
   "mimetype": "text/x-python",
   "name": "python",
   "nbconvert_exporter": "python",
   "pygments_lexer": "ipython3",
   "version": "3.5.2"
  }
 },
 "nbformat": 4,
 "nbformat_minor": 1
}
