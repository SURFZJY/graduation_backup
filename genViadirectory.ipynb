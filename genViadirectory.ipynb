{
 "cells": [
  {
   "cell_type": "code",
   "execution_count": 1,
   "metadata": {
    "collapsed": false
   },
   "outputs": [
    {
     "name": "stderr",
     "output_type": "stream",
     "text": [
      "Using TensorFlow backend.\n"
     ]
    }
   ],
   "source": [
    "import os \n",
    "import numpy as np\n",
    "import cv2\n",
    "from keras.preprocessing.image import load_img , img_to_array\n",
    "from keras.models import load_model"
   ]
  },
  {
   "cell_type": "code",
   "execution_count": 2,
   "metadata": {
    "collapsed": true
   },
   "outputs": [],
   "source": [
    "def doLabel(file_path):\n",
    "    path_item = file_path.split('\\\\')\n",
    "    parent_dir = path_item[0]\n",
    "    for i in path_item[1:-1]:\n",
    "        parent_dir += '\\\\'\n",
    "        parent_dir += i\n",
    "    save_dir = parent_dir + '\\\\' + path_item[-1] + '_pred\\\\'\n",
    "    files = os.listdir(file_path)\n",
    "    if not os.path.exists(save_dir):\n",
    "        os.makedirs(save_dir)\n",
    "    save_dir_files = os.listdir(save_dir)\n",
    "    nb_files = len(save_dir_files)\n",
    "    for i in files[nb_files:]:\n",
    "        img_path = file_path + '\\\\' + i\n",
    "        cvimg = cv2.imread(img_path)\n",
    "        resized_img = cv2.resize(cvimg, (200, 200), interpolation=cv2.INTER_AREA)\n",
    "        cv2.imwrite('tmp.jpg', resized_img)\n",
    "        img = load_img('tmp.jpg')\n",
    "        img = img_to_array(img)\n",
    "        img /= 255\n",
    "        img = img[np.newaxis, ...]\n",
    "        res = model.predict(img)\n",
    "        pred_label = np.argmax(res)\n",
    "        new_name = save_dir + i.split('.')[0] + '_' + cloud_name[pred_label] + '.jpg'\n",
    "        cv2.imwrite(new_name, cvimg)"
   ]
  },
  {
   "cell_type": "code",
   "execution_count": 4,
   "metadata": {
    "collapsed": true
   },
   "outputs": [],
   "source": [
    "model_path = r'H:\\surfzjy\\cloud_detection\\CMAS_tiny_0420.h5'\n",
    "model = load_model(model_path)"
   ]
  },
  {
   "cell_type": "code",
   "execution_count": 5,
   "metadata": {
    "collapsed": true
   },
   "outputs": [],
   "source": [
    "# cloud_name = ['1_cummulus', '2_cirrus', '3_altocumulus', '4_clearsky', '5_stratocumulus', '6_stratus', '7_cumulonimbus']\n",
    "cloud_name = ['1_cirrus', '2_clear', '3_cumulus', '4_hybrid', '5_stratus']"
   ]
  },
  {
   "cell_type": "code",
   "execution_count": 9,
   "metadata": {
    "collapsed": false
   },
   "outputs": [],
   "source": [
    "root_dir = r'H:\\surfzjy\\wuxi_wholesky\\2016\\cut_cut'\n",
    "for i in os.listdir(root_dir):\n",
    "    curpath = root_dir + '\\\\' + i\n",
    "    doLabel(curpath)"
   ]
  },
  {
   "cell_type": "code",
   "execution_count": null,
   "metadata": {
    "collapsed": true
   },
   "outputs": [],
   "source": []
  }
 ],
 "metadata": {
  "anaconda-cloud": {},
  "kernelspec": {
   "display_name": "Python [conda root]",
   "language": "python",
   "name": "conda-root-py"
  },
  "language_info": {
   "codemirror_mode": {
    "name": "ipython",
    "version": 3
   },
   "file_extension": ".py",
   "mimetype": "text/x-python",
   "name": "python",
   "nbconvert_exporter": "python",
   "pygments_lexer": "ipython3",
   "version": "3.5.2"
  }
 },
 "nbformat": 4,
 "nbformat_minor": 1
}
