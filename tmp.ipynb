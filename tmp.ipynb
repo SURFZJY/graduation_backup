{
 "cells": [
  {
   "cell_type": "code",
   "execution_count": 52,
   "metadata": {
    "collapsed": true
   },
   "outputs": [],
   "source": [
    "import re\n",
    "from wechatsogou import *\n",
    "wechats = WechatSogouApi()"
   ]
  },
  {
   "cell_type": "code",
   "execution_count": 9,
   "metadata": {
    "collapsed": true
   },
   "outputs": [],
   "source": [
    "# 提取文章内容并只保留中文字符\n",
    "def extract_chinesechar(content):\n",
    "    # ctmp为去除空格后的str\n",
    "    ctmp = re.split(r'\\s+', article_content)\n",
    "    text = ''\n",
    "    # omit_char为中文字符以外的字符\n",
    "    omit_char = r'abcdefghijklmnopqrstuvwxyzABCDEFGHIJKLMNOPQRSTUVWXYZ0123456789「」_#@&,.-=;%<>:，!\\'\"/()：。（）？?'\n",
    "    for i in ctmp:\n",
    "        for x in i:\n",
    "            if x not in omit_char:\n",
    "                text += x\n",
    "    return text"
   ]
  },
  {
   "cell_type": "code",
   "execution_count": 10,
   "metadata": {
    "collapsed": false
   },
   "outputs": [],
   "source": [
    "# 通过搜狗微信搜索公众号\n",
    "name = '机器之心'\n",
    "wechat_infos = wechats.search_gzh_info(name)\n",
    "# 第一个搜索的结果的url\n",
    "url = wechat_infos[0]['url']\n",
    "# 提取相关信息\n",
    "data = wechats.get_gzh_message(url=url)\n",
    "# article_content = wechats.deal_article_content(url='http://mp.weixin.qq.com/s?timestamp=1491966232&src=3&ver=1&signature=WW6CWPhBogYMIwDkIcu*1h79hc2PT8v1f3zJaYlyhbClrpsi2W1DbtWMqEP7m2X-NRHG2LWaSIvcLLTtOkrrAutPOXXed6MUgjW3Btpp2d0*yBTvnxklIU5xL0jD4myHGTA-YsyepoDzr0yziyY*o8eWesy6nfdaJRtdpHN4v2c=')\n",
    "useful_info_list = [] \n",
    "for i in data:\n",
    "    tmp = {}\n",
    "    tmp['title'] = i['title']\n",
    "    tmp['digest'] = i['digest']\n",
    "    tmp['content_url'] = i['content_url']\n",
    "    tmp['source_url'] = i['source_url']\n",
    "    useful_info_list.append(tmp)"
   ]
  },
  {
   "cell_type": "code",
   "execution_count": 49,
   "metadata": {
    "collapsed": false
   },
   "outputs": [],
   "source": [
    "key_word = ['活动', '讲座']\n",
    "extract_url_list = []\n",
    "title_list = []\n",
    "for i in useful_info_list:\n",
    "    title = i['title']\n",
    "    digest = i['digest']\n",
    "    source_url = i['source_url']\n",
    "    content_url = i['content_url']\n",
    "    for keyword in key_word:\n",
    "        if (keyword in title) or (keyword in digest):\n",
    "            if title not in title_list:\n",
    "                extract_url_list.append(title + ' ' + content_url)\n",
    "            \n",
    "            title_list.append(title)\n",
    "            title_list = set(title_list)\n",
    "            title_list = list(title_list)\n",
    "            \n",
    "    if 'huodongxing' in source_url and (title not in title_list):\n",
    "        extract_url_list.append(title + ' ' + content_url)"
   ]
  },
  {
   "cell_type": "code",
   "execution_count": null,
   "metadata": {
    "collapsed": true
   },
   "outputs": [],
   "source": []
  },
  {
   "cell_type": "code",
   "execution_count": 53,
   "metadata": {
    "collapsed": true
   },
   "outputs": [],
   "source": [
    "# 通过搜狗微信搜索公众号\n",
    "name = '机器学习研究会'\n",
    "wechat_infos = wechats.search_gzh_info(name)\n",
    "# 第一个搜索的结果的url\n",
    "url = wechat_infos[0]['url']\n",
    "# 提取相关信息\n",
    "data = wechats.get_gzh_message(url=url)\n",
    "# article_content = wechats.deal_article_content(url='http://mp.weixin.qq.com/s?timestamp=1491966232&src=3&ver=1&signature=WW6CWPhBogYMIwDkIcu*1h79hc2PT8v1f3zJaYlyhbClrpsi2W1DbtWMqEP7m2X-NRHG2LWaSIvcLLTtOkrrAutPOXXed6MUgjW3Btpp2d0*yBTvnxklIU5xL0jD4myHGTA-YsyepoDzr0yziyY*o8eWesy6nfdaJRtdpHN4v2c=')\n",
    "useful_info_list = [] \n",
    "for i in data:\n",
    "    tmp = {}\n",
    "    tmp['title'] = i['title']\n",
    "    tmp['digest'] = i['digest']\n",
    "    tmp['content_url'] = i['content_url']\n",
    "    tmp['source_url'] = i['source_url']\n",
    "    useful_info_list.append(tmp)"
   ]
  },
  {
   "cell_type": "code",
   "execution_count": 54,
   "metadata": {
    "collapsed": false
   },
   "outputs": [
    {
     "data": {
      "text/plain": [
       "[{'content_url': 'http://mp.weixin.qq.com/s?timestamp=1492051488&src=3&ver=1&signature=TulQT7ydSdqHu*2P9v3c*q8XfbOq8KMh2hSist92bNZ*VSynayYuHOxCWCVeNXXZokB*8QhSVRfLBt5qW90lUZkRAnSN5zrBTV-OF1Dqd0*yVFX8TFUmNXIONIITx3CxTk71B5fymnn8DMa13ehUYdQVpKRiPn7RbhSJe6RD*PY=',\n",
       "  'digest': '北大AI公开课第七讲由百度徐伟老师亲临现场，本讲主要涵盖通用人工智能、自主学习、体验智能、语言获取等内容。',\n",
       "  'source_url': 'http://www.iqiyi.com/l_19rrbkb3az.html',\n",
       "  'title': '\\u200b 【图文实录】北大AI公开课第七讲  百度徐伟——AGI 2050年前实现可能性超50%'},\n",
       " {'content_url': 'http://mp.weixin.qq.com/s?timestamp=1492051488&src=3&ver=1&signature=TulQT7ydSdqHu*2P9v3c*q8XfbOq8KMh2hSist92bNZ*VSynayYuHOxCWCVeNXXZokB*8QhSVRfLBt5qW90lUZkRAnSN5zrBTV-OF1Dqd08silFk52C44XSbgON93brnd8OuaClgqCDRztEUeEmiWSXCo6zv9UMy7rtwxKyVgqk=',\n",
       "  'digest': '深圳4.21峰会丨学术界、产业界共话转型升级，探讨人工智能落地产业',\n",
       "  'source_url': 'http://www.iyiou.com/a/ai_shenzhen_2017',\n",
       "  'title': '深圳4.21峰会丨学术界、产业界共话转型升级，探讨人工智能落地产业'},\n",
       " {'content_url': 'http://mp.weixin.qq.com/s?timestamp=1492051488&src=3&ver=1&signature=TulQT7ydSdqHu*2P9v3c*q8XfbOq8KMh2hSist92bNZ*VSynayYuHOxCWCVeNXXZokB*8QhSVRfLBt5qW90lUZkRAnSN5zrBTV-OF1Dqd0-qfMIuO*U1Bz0-vewVyCjOByNQwlgPuzFzZDhhMvnKCIOFQTqev-V7i5e4MrBYMLg=',\n",
       "  'digest': '浅析感知机（二）--学习算法及python代码剖析',\n",
       "  'source_url': 'http://mp.weixin.qq.com/s/Qh7xo9bI31WCfYFMOO4WJg',\n",
       "  'title': '【学习】浅析感知机（二）--学习算法及python代码剖析'},\n",
       " {'content_url': 'http://mp.weixin.qq.com/s?timestamp=1492051488&src=3&ver=1&signature=TulQT7ydSdqHu*2P9v3c*q8XfbOq8KMh2hSist92bNZ*VSynayYuHOxCWCVeNXXZokB*8QhSVRfLBt5qW90lUZkRAnSN5zrBTV-OF1Dqd09KMx1O8aXqecwbXuRY9v6RhpdOE0gZBaogBnszdBjqqdr8F-d0dsyXSbl*2GSbWhY=',\n",
       "  'digest': 'PyTorch递归神经网络',\n",
       "  'source_url': 'https://devblogs.nvidia.com/parallelforall/recursive-neural-networks-pytorch/',\n",
       "  'title': '【学习】PyTorch递归神经网络'},\n",
       " {'content_url': 'http://mp.weixin.qq.com/s?timestamp=1492051488&src=3&ver=1&signature=TulQT7ydSdqHu*2P9v3c*q8XfbOq8KMh2hSist92bNZ*VSynayYuHOxCWCVeNXXZokB*8QhSVRfLBt5qW90lUZkRAnSN5zrBTV-OF1Dqd08HSMlNOv7Gb970Opq9006hfr0K097lPYUgxIS23mD9ApDhqyuvHfLVYqLTaALSPZU=',\n",
       "  'digest': '2017年4月历史文章汇总',\n",
       "  'source_url': '',\n",
       "  'title': '2017年4月历史文章汇总'},\n",
       " {'content_url': 'http://mp.weixin.qq.com/s?timestamp=1492051488&src=3&ver=1&signature=TulQT7ydSdqHu*2P9v3c*q8XfbOq8KMh2hSist92bNZ*VSynayYuHOxCWCVeNXXZokB*8QhSVRfLBt5qW90lUWgUmLnAcj*ceKOQtGQYpGnV7c0w-fVI-7K7laSH-xl8waxHE239tFWwTRCI6OzR39T35zxLui2OO69pkquchRQ=',\n",
       "  'digest': '第二届魔镜杯赛制升级，真实投资环境，真实投资人，等你来战！',\n",
       "  'source_url': 'https://www.kesci.com/apps/home_log/index.html#!/competition/58e8ce6f9957300141f983a6/content/0',\n",
       "  'title': '【魔镜杯第二届】10万美金悬赏产品达人，500万美金投资基金同步加持'},\n",
       " {'content_url': 'http://mp.weixin.qq.com/s?timestamp=1492051488&src=3&ver=1&signature=TulQT7ydSdqHu*2P9v3c*q8XfbOq8KMh2hSist92bNZ*VSynayYuHOxCWCVeNXXZokB*8QhSVRfLBt5qW90lUWgUmLnAcj*ceKOQtGQYpGlaRhQZpGrMsOZfrtz8Lj90uUDmab6xf-uoLzdreB67DDfR*GMmkD-3h7qTB9KD-3E=',\n",
       "  'digest': '常用数据增强的library',\n",
       "  'source_url': 'https://github.com/aleju/imgaug',\n",
       "  'title': '【推荐】常用数据增强的library'},\n",
       " {'content_url': 'http://mp.weixin.qq.com/s?timestamp=1492051488&src=3&ver=1&signature=TulQT7ydSdqHu*2P9v3c*q8XfbOq8KMh2hSist92bNZ*VSynayYuHOxCWCVeNXXZokB*8QhSVRfLBt5qW90lUWgUmLnAcj*ceKOQtGQYpGl3rzBXLQphYLdpd74BvvK-0*RYiMl7JEkafN1eWGybkA4KMZ8sgskNrpeE-Mx*h2Q=',\n",
       "  'digest': '见微知著：细粒度图像分析进展',\n",
       "  'source_url': 'http://geek.csdn.net/news/detail/191718',\n",
       "  'title': '【学习】见微知著：细粒度图像分析进展'},\n",
       " {'content_url': 'http://mp.weixin.qq.com/s?timestamp=1492051488&src=3&ver=1&signature=TulQT7ydSdqHu*2P9v3c*q8XfbOq8KMh2hSist92bNZ*VSynayYuHOxCWCVeNXXZokB*8QhSVRfLBt5qW90lUWgUmLnAcj*ceKOQtGQYpGlZvAmCgWfRF54TIlIbo4QzMCrxL1AS9vNy*zNtaSQNX2hp9U*aGRqWEgWyFyhLjL4=',\n",
       "  'digest': '浅析感知机（一）--模型与学习策略',\n",
       "  'source_url': 'http://mp.weixin.qq.com/s/3V1DOrlW0UeH_b89i0HHpQ',\n",
       "  'title': '【学习】浅析感知机（一）--模型与学习策略'},\n",
       " {'content_url': 'http://mp.weixin.qq.com/s?timestamp=1492051488&src=3&ver=1&signature=TulQT7ydSdqHu*2P9v3c*q8XfbOq8KMh2hSist92bNZ*VSynayYuHOxCWCVeNXXZokB*8QhSVRfLBt5qW90lUWgUmLnAcj*ceKOQtGQYpGk11XuATM2LIH63k*NyxgK1XDT6dD2DiAI2WNzH5*MCisG*8mzgIbVtT9N-ec6v6zk=',\n",
       "  'digest': '2017年4月历史文章汇总',\n",
       "  'source_url': '',\n",
       "  'title': '2017年4月历史文章汇总'},\n",
       " {'content_url': 'http://mp.weixin.qq.com/s?timestamp=1492051488&src=3&ver=1&signature=TulQT7ydSdqHu*2P9v3c*q8XfbOq8KMh2hSist92bNZ*VSynayYuHOxCWCVeNXXZokB*8QhSVRfLBt5qW90lUU9AubPD0xn8mAc6qiTgXzvucdlhW54Lu2RddQdlJPzycQudtw03ExypkVkMValLv8wkyFY52yCAOBe3n7D1F0Y=',\n",
       "  'digest': '北京大学“人工智能前沿”第七讲，将由百度IDL杰出科学家徐伟老师亲临现场，周二晚上18:40--20:30',\n",
       "  'source_url': 'http://www.iqiyi.com/w_19rtwqgwfp.html',\n",
       "  'title': '【预告】北大AI第七讲：百度IDL杰出科学家  徐伟---通用人工智能的现状及展望'},\n",
       " {'content_url': 'http://mp.weixin.qq.com/s?timestamp=1492051488&src=3&ver=1&signature=TulQT7ydSdqHu*2P9v3c*q8XfbOq8KMh2hSist92bNZ*VSynayYuHOxCWCVeNXXZokB*8QhSVRfLBt5qW90lUR0IU*yW*T9FF*L2eqKgME*3A6izW7YztE*bg0R1LraYwMmAJp9l56X*D5rO0ySJRgQa0gvvP1kh1I1xodOsrWU=',\n",
       "  'digest': '中文识别效果比tesseract更好的深度OCR',\n",
       "  'source_url': 'https://github.com/JinpengLI/deep_ocr',\n",
       "  'title': '【推荐】中文识别效果比tesseract更好的深度OCR'},\n",
       " {'content_url': 'http://mp.weixin.qq.com/s?timestamp=1492051488&src=3&ver=1&signature=TulQT7ydSdqHu*2P9v3c*q8XfbOq8KMh2hSist92bNZ*VSynayYuHOxCWCVeNXXZokB*8QhSVRfLBt5qW90lUR0IU*yW*T9FF*L2eqKgME-xMvcYJd6xJ6WjwPI51XI-JyQWMCykaBZoVw5hBrPTq5ucrj5iS4bUlEAJGIVCS-8=',\n",
       "  'digest': '跨域数据融合全套PPT分章节全部公开（300MB+）',\n",
       "  'source_url': 'https://www.microsoft.com/en-us/research/project/cross-domain-data-fusion/',\n",
       "  'title': '【学习】跨域数据融合全套PPT分章节全部公开（300MB+）'},\n",
       " {'content_url': 'http://mp.weixin.qq.com/s?timestamp=1492051488&src=3&ver=1&signature=TulQT7ydSdqHu*2P9v3c*q8XfbOq8KMh2hSist92bNZ*VSynayYuHOxCWCVeNXXZokB*8QhSVRfLBt5qW90lUR0IU*yW*T9FF*L2eqKgME8MoP7tdIB7*6-hmf*KF1thxFkfhp1xOGLu1rTQf4MZlEboAqk2EEMvCzuE2dxORA8=',\n",
       "  'digest': '用python对人们使用自行车情况分析与预测',\n",
       "  'source_url': 'http://mp.weixin.qq.com/s/9VXH5p8JWaagy2pO7wr8XQ',\n",
       "  'title': '【学习】用python对人们使用自行车情况分析与预测'},\n",
       " {'content_url': 'http://mp.weixin.qq.com/s?timestamp=1492051488&src=3&ver=1&signature=TulQT7ydSdqHu*2P9v3c*q8XfbOq8KMh2hSist92bNZ*VSynayYuHOxCWCVeNXXZokB*8QhSVRfLBt5qW90lUR0IU*yW*T9FF*L2eqKgME9k7WKsUNmo*IbayulGg*tXxzifishIyGu9F28O8fyEHeeB*glaC2j2AFWQja5Pzhg=',\n",
       "  'digest': 'Learning Graphical State Transitions',\n",
       "  'source_url': 'http://mp.weixin.qq.com/s/arSKKs7oEJLGrEwMn8_xww',\n",
       "  'title': '【论文】Learning Graphical State Transitions'},\n",
       " {'content_url': 'http://mp.weixin.qq.com/s?timestamp=1492051488&src=3&ver=1&signature=TulQT7ydSdqHu*2P9v3c*q8XfbOq8KMh2hSist92bNZ*VSynayYuHOxCWCVeNXXZokB*8QhSVRfLBt5qW90lUR0IU*yW*T9FF*L2eqKgME9OR8XhU5GQmWfHN2SNUvioAaOQZhNCC0USWpS-bpwTYVlMzTHT7E0fW7G5yRyWAq4=',\n",
       "  'digest': '2017年4月历史文章汇总',\n",
       "  'source_url': '',\n",
       "  'title': '2017年4月历史文章汇总'},\n",
       " {'content_url': 'http://mp.weixin.qq.com/s?timestamp=1492051488&src=3&ver=1&signature=TulQT7ydSdqHu*2P9v3c*q8XfbOq8KMh2hSist92bNZ*VSynayYuHOxCWCVeNXXZokB*8QhSVRfLBt5qW90lUTgXgfy6Q1yp1JqUjTNjiXPEOLUEug8TOxVV5TaJB5OObRbWN5O2TtpjvRyAOuL9yPJo0i3fAW9uRl3ifLYg0t8=',\n",
       "  'digest': '(Python)LSTM时序预测',\n",
       "  'source_url': 'http://machinelearningmastery.com/time-series-forecasting-long-short-term-memory-network-python/',\n",
       "  'title': '【推荐】(Python)LSTM时序预测'},\n",
       " {'content_url': 'http://mp.weixin.qq.com/s?timestamp=1492051488&src=3&ver=1&signature=TulQT7ydSdqHu*2P9v3c*q8XfbOq8KMh2hSist92bNZ*VSynayYuHOxCWCVeNXXZokB*8QhSVRfLBt5qW90lUTgXgfy6Q1yp1JqUjTNjiXP-UIiKQ6qO7mqIw4syy5oVZ1YOG2CUsAyxaqmvZl2FzV1S*rpBAnnhUSrmiuCfdfQ=',\n",
       "  'digest': '深度学习在自然语言处理中的应用',\n",
       "  'source_url': 'http://geek.csdn.net/news/detail/190707',\n",
       "  'title': '【学习】深度学习在自然语言处理中的应用'},\n",
       " {'content_url': 'http://mp.weixin.qq.com/s?timestamp=1492051488&src=3&ver=1&signature=TulQT7ydSdqHu*2P9v3c*q8XfbOq8KMh2hSist92bNZ*VSynayYuHOxCWCVeNXXZokB*8QhSVRfLBt5qW90lUTgXgfy6Q1yp1JqUjTNjiXO4XaaaejmEp2WFuNZbVNokS-TUpMedD200iKEn8pGVkGlddM4Tff6XU*hMJvZuEqA=',\n",
       "  'digest': '如何使用Python处理Missing Data',\n",
       "  'source_url': 'http://mp.weixin.qq.com/s/qwXkrBO4kKh0Y5dM73aG0A',\n",
       "  'title': '【学习】如何使用Python处理Missing Data'},\n",
       " {'content_url': 'http://mp.weixin.qq.com/s?timestamp=1492051488&src=3&ver=1&signature=TulQT7ydSdqHu*2P9v3c*q8XfbOq8KMh2hSist92bNZ*VSynayYuHOxCWCVeNXXZokB*8QhSVRfLBt5qW90lUTgXgfy6Q1yp1JqUjTNjiXM44i1xxBl6JxwG*I-nEuOFIdysIw0lWYHnyUW5PxyIbMPPzgqOAb3sD*x2KaKc8nQ=',\n",
       "  'digest': '每个计算机科学学生应该知道的顶级算法/数据结构/概念',\n",
       "  'source_url': 'http://www.techiedelight.com/top-algorithms-data-structures-concepts-computer-science/',\n",
       "  'title': '【学习】每个计算机科学学生应该知道的顶级算法/数据结构/概念'},\n",
       " {'content_url': 'http://mp.weixin.qq.com/s?timestamp=1492051488&src=3&ver=1&signature=TulQT7ydSdqHu*2P9v3c*q8XfbOq8KMh2hSist92bNZ*VSynayYuHOxCWCVeNXXZokB*8QhSVRfLBt5qW90lUTgXgfy6Q1yp1JqUjTNjiXNwV9gonKDvpaXs79qhHd2-g1TvXSx1agQY3ywwDijkqFk2aJJlWHfqWaYMG41T1tE=',\n",
       "  'digest': '2017年4月历史文章汇总',\n",
       "  'source_url': '',\n",
       "  'title': '2017年4月历史文章汇总'},\n",
       " {'content_url': 'http://mp.weixin.qq.com/s?timestamp=1492051488&src=3&ver=1&signature=TulQT7ydSdqHu*2P9v3c*q8XfbOq8KMh2hSist92bNZ*VSynayYuHOxCWCVeNXXZokB*8QhSVRfLBt5qW90lUS18wTL-IuCre8OEHeS1UnBRNyAnRiNwg4GStTmf1bYS35bVF*7UlcNdZLJ9prHlPoD8VZkAMrbeikz*LwpJvJ0=',\n",
       "  'digest': '加大伯克利的迈克尔·约旦教授推荐的17本基本机器学习书籍',\n",
       "  'source_url': 'http://shelfjoy.com/shelfjoy/17-essential-machine-learning-books-suggested-by-michael-i-jordan-from-berkeley',\n",
       "  'title': '【推荐】加大伯克利的迈克尔·约旦教授推荐的17本基本机器学习书籍'},\n",
       " {'content_url': 'http://mp.weixin.qq.com/s?timestamp=1492051488&src=3&ver=1&signature=TulQT7ydSdqHu*2P9v3c*q8XfbOq8KMh2hSist92bNZ*VSynayYuHOxCWCVeNXXZokB*8QhSVRfLBt5qW90lUS18wTL-IuCre8OEHeS1UnAKQ*ZtlCjMpi8z9JGRVumio0SOCDZ0H1iyKJSju1efCe-reUyJUOMdwwCSlBllKO8=',\n",
       "  'digest': 'CNN的感受野计算指南',\n",
       "  'source_url': 'https://medium.com/@nikasa1889/a-guide-to-receptive-field-arithmetic-for-convolutional-neural-networks-e0f514068807',\n",
       "  'title': '【学习】CNN的感受野计算指南'},\n",
       " {'content_url': 'http://mp.weixin.qq.com/s?timestamp=1492051488&src=3&ver=1&signature=TulQT7ydSdqHu*2P9v3c*q8XfbOq8KMh2hSist92bNZ*VSynayYuHOxCWCVeNXXZokB*8QhSVRfLBt5qW90lUS18wTL-IuCre8OEHeS1UnAtYP*gBOQwHQadzUTX-YiDJoLy580WdLoQBxPZusx9vI8Gjn5E8myE151pqwXTd6o=',\n",
       "  'digest': 'MIT在读博士薛天帆：运动辅助视频处理和合成',\n",
       "  'source_url': 'http://mp.weixin.qq.com/s/DfDHLLpAJsOnaLm9nCWnag',\n",
       "  'title': '【干货】MIT在读博士薛天帆：运动辅助视频处理和合成'},\n",
       " {'content_url': 'http://mp.weixin.qq.com/s?timestamp=1492051488&src=3&ver=1&signature=TulQT7ydSdqHu*2P9v3c*q8XfbOq8KMh2hSist92bNZ*VSynayYuHOxCWCVeNXXZokB*8QhSVRfLBt5qW90lUS18wTL-IuCre8OEHeS1UnCo*j4VbFtOswUqJ0xEhY9MogfIB1nth5*CmR6h5VMnK3Q3IdKaz6K24YFosaLXXJU=',\n",
       "  'digest': '华盛顿大学深度学习系统课程',\n",
       "  'source_url': 'https://github.com/dlsys-course/assignment1',\n",
       "  'title': '【学习】华盛顿大学深度学习系统课程'},\n",
       " {'content_url': 'http://mp.weixin.qq.com/s?timestamp=1492051488&src=3&ver=1&signature=TulQT7ydSdqHu*2P9v3c*q8XfbOq8KMh2hSist92bNZ*VSynayYuHOxCWCVeNXXZokB*8QhSVRfLBt5qW90lUS18wTL-IuCre8OEHeS1UnDRdiOlD5nbjER1T0nGj1FrGZtXMyenVTg92axUBScSuak2K-RpZI8ZexZfB4odw54=',\n",
       "  'digest': '2017年4月历史文章汇总',\n",
       "  'source_url': '',\n",
       "  'title': '2017年4月历史文章汇总'},\n",
       " {'content_url': 'http://mp.weixin.qq.com/s?timestamp=1492051488&src=3&ver=1&signature=TulQT7ydSdqHu*2P9v3c*q8XfbOq8KMh2hSist92bNZ*VSynayYuHOxCWCVeNXXZokB*8QhSVRfLBt5qW90lUcmldPWn*Q9G9PMKzZP4xcVN7HGWwzos8WLBIbRV0f22weVq1CMQLXDkl7Qq7xZfinZkR1m0tBiyVarT*fpAx3o=',\n",
       "  'digest': '收敛速度更快更稳定的Wasserstein GAN(WGAN)',\n",
       "  'source_url': 'https://arxiv.org/abs/1704.00028',\n",
       "  'title': '【推荐】（论文+代码）收敛速度更快更稳定的Wasserstein GAN(WGAN)'},\n",
       " {'content_url': 'http://mp.weixin.qq.com/s?timestamp=1492051488&src=3&ver=1&signature=TulQT7ydSdqHu*2P9v3c*q8XfbOq8KMh2hSist92bNZ*VSynayYuHOxCWCVeNXXZokB*8QhSVRfLBt5qW90lUcmldPWn*Q9G9PMKzZP4xcWt0gIOpyxPeBga4bBCNhHanuaedoy7sdOj-uF2VWCNgC2BPWMMim36T0x1FFkzCOg=',\n",
       "  'digest': '国内首个迁移学习赛题上线，速来报名！',\n",
       "  'source_url': 'http://h5.eqxiu.com/s/zNLqVfGF?qrc=72236',\n",
       "  'title': '【竞赛】国内首个迁移学习赛题上线，速来报名！'},\n",
       " {'content_url': 'http://mp.weixin.qq.com/s?timestamp=1492051488&src=3&ver=1&signature=TulQT7ydSdqHu*2P9v3c*q8XfbOq8KMh2hSist92bNZ*VSynayYuHOxCWCVeNXXZokB*8QhSVRfLBt5qW90lUcmldPWn*Q9G9PMKzZP4xcWQUD6AflpEPIwKRP8hBeP7512W9CHNahKnBXE0fR3e-lQSoizagcJWVFmmNL*PFM4=',\n",
       "  'digest': 'EACL2017特邀报告：Probabilistic Topic Models and User Behavior',\n",
       "  'source_url': 'http://www.cs.columbia.edu/~blei/talks/Blei_User_Behavior.pdf',\n",
       "  'title': '【学习】EACL2017特邀报告：Probabilistic Topic Models and User Behavior'},\n",
       " {'content_url': 'http://mp.weixin.qq.com/s?timestamp=1492051488&src=3&ver=1&signature=TulQT7ydSdqHu*2P9v3c*q8XfbOq8KMh2hSist92bNZ*VSynayYuHOxCWCVeNXXZokB*8QhSVRfLBt5qW90lUcmldPWn*Q9G9PMKzZP4xcVRYO-C1FD7tNTyJIDcUiUYj7LV0nvwxbALxb7nAh5GM-xP0xK40aS9ZllfxiXeoyQ=',\n",
       "  'digest': '分析momentum在梯度下降中的作用的好文章',\n",
       "  'source_url': 'http://distill.pub/2017/momentum/',\n",
       "  'title': '【学习】分析momentum在梯度下降中的作用的好文章'},\n",
       " {'content_url': 'http://mp.weixin.qq.com/s?timestamp=1492051488&src=3&ver=1&signature=TulQT7ydSdqHu*2P9v3c*q8XfbOq8KMh2hSist92bNZ*VSynayYuHOxCWCVeNXXZokB*8QhSVRfLBt5qW90lUcmldPWn*Q9G9PMKzZP4xcUzVYIaM-qoD0nqIggQa0IYiw2IXuB5wMcQBcMVKBZ*vdLQ0Wq5PwsAkgSTYWz7vFo=',\n",
       "  'digest': '2017年4月历史文章汇总',\n",
       "  'source_url': '',\n",
       "  'title': '2017年4月历史文章汇总'},\n",
       " {'content_url': 'http://mp.weixin.qq.com/s?timestamp=1492051488&src=3&ver=1&signature=TulQT7ydSdqHu*2P9v3c*q8XfbOq8KMh2hSist92bNZ*VSynayYuHOxCWCVeNXXZokB*8QhSVRfLBt5qW90lUceGDMw*1r5BcXbDMKW2VFerPwEO*6kTuiIJFflnSrOdtV2fZfqVhuIwRWKEIWfMPURKBJpqMbtVIzWLJbFWgQ0=',\n",
       "  'digest': 'SVD分解入门',\n",
       "  'source_url': 'http://blog.yhat.com/posts/singular-value-decomposition.html',\n",
       "  'title': '【推荐】SVD分解入门'},\n",
       " {'content_url': 'http://mp.weixin.qq.com/s?timestamp=1492051488&src=3&ver=1&signature=TulQT7ydSdqHu*2P9v3c*q8XfbOq8KMh2hSist92bNZ*VSynayYuHOxCWCVeNXXZokB*8QhSVRfLBt5qW90lUceGDMw*1r5BcXbDMKW2VFejxmAH2P9aPzxHAlwy1BCLvLBp678zbLdE-mmRV9FG-9uR6gk*Prlwh3G*Q*IV30o=',\n",
       "  'digest': '为什么说机器学习模型中的预测变量可能越少越好？',\n",
       "  'source_url': 'http://www.kdnuggets.com/2017/04/must-know-fewer-predictors-machine-learning-models.html',\n",
       "  'title': '【学习】为什么说机器学习模型中的预测变量可能越少越好？'},\n",
       " {'content_url': 'http://mp.weixin.qq.com/s?timestamp=1492051488&src=3&ver=1&signature=TulQT7ydSdqHu*2P9v3c*q8XfbOq8KMh2hSist92bNZ*VSynayYuHOxCWCVeNXXZokB*8QhSVRfLBt5qW90lUceGDMw*1r5BcXbDMKW2VFcCciCX3cy-*H9xWvpSMhLtf-Qbxi36e8kCtsOFqsA4IEbc91uUNucJ4IpEqjO3NhA=',\n",
       "  'digest': '通俗讲解平方损失函数平方形式的数学解释？',\n",
       "  'source_url': 'https://mp.weixin.qq.com/s/vSBcA3UgpDb8ZauWePPSjA',\n",
       "  'title': '【学习】通俗讲解平方损失函数平方形式的数学解释？'},\n",
       " {'content_url': 'http://mp.weixin.qq.com/s?timestamp=1492051488&src=3&ver=1&signature=TulQT7ydSdqHu*2P9v3c*q8XfbOq8KMh2hSist92bNZ*VSynayYuHOxCWCVeNXXZokB*8QhSVRfLBt5qW90lUceGDMw*1r5BcXbDMKW2VFe65y8cbzbw1SJ0l*8JTSxHAhQZOvk8YfnutBCDOLAAnbInu39sxO6Lii*Zvzo2iVg=',\n",
       "  'digest': 'MIT在读博士薛天帆：运动辅助视频处理和合成',\n",
       "  'source_url': 'http://mp.weixin.qq.com/s/MQIHDreXLLE5k2aEdzBSuA',\n",
       "  'title': '【报名】MIT在读博士薛天帆：运动辅助视频处理和合成'},\n",
       " {'content_url': 'http://mp.weixin.qq.com/s?timestamp=1492051488&src=3&ver=1&signature=TulQT7ydSdqHu*2P9v3c*q8XfbOq8KMh2hSist92bNZ*VSynayYuHOxCWCVeNXXZokB*8QhSVRfLBt5qW90lUceGDMw*1r5BcXbDMKW2VFcZFVP-WCA3gS4xZx-lpb3TLXvQ1Y40Wl*dGPJL6ZfkPQRNXCfZ43xD3D6sLKioGCk=',\n",
       "  'digest': '2017年4月历史文章汇总',\n",
       "  'source_url': '',\n",
       "  'title': '2017年4月历史文章汇总'},\n",
       " {'content_url': 'http://mp.weixin.qq.com/s?timestamp=1492051488&src=3&ver=1&signature=TulQT7ydSdqHu*2P9v3c*q8XfbOq8KMh2hSist92bNZ*VSynayYuHOxCWCVeNXXZokB*8QhSVRfLBt5qW90lUUMp7c1vfLyh4989vTkfresTP3ssRsdAuk6ZGpBNATGNqH1j*FXQPlKh2zpAjGlk0dLzWahKZjXquXNxIZQ3eV4=',\n",
       "  'digest': '基于LSTM矩阵分解/分块的大型LSTM网络简化加速（附代码）',\n",
       "  'source_url': 'https://arxiv.org/abs/1703.10722',\n",
       "  'title': '【推荐】基于LSTM矩阵分解/分块的大型LSTM网络简化加速（附代码）'},\n",
       " {'content_url': 'http://mp.weixin.qq.com/s?timestamp=1492051488&src=3&ver=1&signature=TulQT7ydSdqHu*2P9v3c*q8XfbOq8KMh2hSist92bNZ*VSynayYuHOxCWCVeNXXZokB*8QhSVRfLBt5qW90lUUMp7c1vfLyh4989vTkfretwXqwY4Fwlt7NfguNC-bFnLEW*0recxQtK*n0f6jJwY9XqGblLt0vHYj7EiWTMk5o=',\n",
       "  'digest': '深度学习必备：随机梯度下降（SGD）优化算法及可视化',\n",
       "  'source_url': 'http://mp.weixin.qq.com/s/5utbOLwOy2RwyrI1OfJjDQ',\n",
       "  'title': '【干货】深度学习必备：随机梯度下降（SGD）优化算法及可视化'},\n",
       " {'content_url': 'http://mp.weixin.qq.com/s?timestamp=1492051488&src=3&ver=1&signature=TulQT7ydSdqHu*2P9v3c*q8XfbOq8KMh2hSist92bNZ*VSynayYuHOxCWCVeNXXZokB*8QhSVRfLBt5qW90lUUMp7c1vfLyh4989vTkfrevBO33hR*aC4z5lpuuqYcaRzgYytJhSvLVi7qMZffI7j29fjRaKDRxuXEEEEixAWj8=',\n",
       "  'digest': '以《星际争霸》为例，阿里多智能体协作网络BiCNet展现人工集体智能无限潜力',\n",
       "  'source_url': 'http://mp.weixin.qq.com/s/TY1hiUINy72f5-mJ_aHTlg',\n",
       "  'title': '【学习】以《星际争霸》为例，阿里多智能体协作网络BiCNet展现人工集体智能无限潜力'},\n",
       " {'content_url': 'http://mp.weixin.qq.com/s?timestamp=1492051488&src=3&ver=1&signature=TulQT7ydSdqHu*2P9v3c*q8XfbOq8KMh2hSist92bNZ*VSynayYuHOxCWCVeNXXZokB*8QhSVRfLBt5qW90lUUMp7c1vfLyh4989vTkfresIKJICMkC5eW22sN0qzayj9jY1r22tS4Sod77Gy4qV2dfZN7qWzrN4YzFxMy-8scI=',\n",
       "  'digest': '完整手写一个朴素贝叶斯分类器，完成文本分类',\n",
       "  'source_url': 'http://mp.weixin.qq.com/s/hBkMWKNz-ktnjWSsZDNH-Q',\n",
       "  'title': '【学习】完整手写一个朴素贝叶斯分类器，完成文本分类'},\n",
       " {'content_url': 'http://mp.weixin.qq.com/s?timestamp=1492051488&src=3&ver=1&signature=TulQT7ydSdqHu*2P9v3c*q8XfbOq8KMh2hSist92bNZ*VSynayYuHOxCWCVeNXXZokB*8QhSVRfLBt5qW90lUUMp7c1vfLyh4989vTkfres*KJdK5ihau0HA1wOYBjozZoAj21tl3MJurqysBJS-IWFtNzjQucXeAHhhXqX-37E=',\n",
       "  'digest': '2017年4月历史文章汇总',\n",
       "  'source_url': '',\n",
       "  'title': '2017年4月历史文章汇总'},\n",
       " {'content_url': 'http://mp.weixin.qq.com/s?timestamp=1492051488&src=3&ver=1&signature=TulQT7ydSdqHu*2P9v3c*q8XfbOq8KMh2hSist92bNZ*VSynayYuHOxCWCVeNXXZokB*8QhSVRfLBt5qW90lUW2Z3U9uXexdbiiV45LXAlDppuhInrk3dfCubwCWhwhY9K-n7sM7UqQEK8d8nVST7ak40WNVWvbEseZwqGoyCj4=',\n",
       "  'digest': '目标定位与检测',\n",
       "  'source_url': 'https://leonardoaraujosantos.gitbooks.io/artificial-inteligence/content/object_localization_and_detection.html',\n",
       "  'title': '【推荐】目标定位与检测'},\n",
       " {'content_url': 'http://mp.weixin.qq.com/s?timestamp=1492051488&src=3&ver=1&signature=TulQT7ydSdqHu*2P9v3c*q8XfbOq8KMh2hSist92bNZ*VSynayYuHOxCWCVeNXXZokB*8QhSVRfLBt5qW90lUW2Z3U9uXexdbiiV45LXAlCl5StRuKqdj0Dp73h8hLPIE1CL-sQS4iZeaTQdALQP76sHKMOlHNz6QmLpt-TtOfw=',\n",
       "  'digest': '完结篇|一文搞定k近邻算法（k-NN）算法（二）',\n",
       "  'source_url': 'https://mp.weixin.qq.com/s/qfHBn7YydSOOnM43Be8aTg',\n",
       "  'title': '【干货】完结篇|一文搞定k近邻算法（k-NN）算法（二）'},\n",
       " {'content_url': 'http://mp.weixin.qq.com/s?timestamp=1492051488&src=3&ver=1&signature=TulQT7ydSdqHu*2P9v3c*q8XfbOq8KMh2hSist92bNZ*VSynayYuHOxCWCVeNXXZokB*8QhSVRfLBt5qW90lUW2Z3U9uXexdbiiV45LXAlAXGfIU6hz7hvcHnyGb-Bkvin1CdsMbORKJ46bTIJIz*dixlwDSBJYJBfqy232vkBE=',\n",
       "  'digest': '中文数据预处理材料',\n",
       "  'source_url': 'https://github.com/dongxiexidian/Chinese',\n",
       "  'title': '【学习】中文数据预处理材料'},\n",
       " {'content_url': 'http://mp.weixin.qq.com/s?timestamp=1492051488&src=3&ver=1&signature=TulQT7ydSdqHu*2P9v3c*q8XfbOq8KMh2hSist92bNZ*VSynayYuHOxCWCVeNXXZokB*8QhSVRfLBt5qW90lUW2Z3U9uXexdbiiV45LXAlD7uYEvd2rHpjDTFRULO7heOahphF8aQ0RYIK5PMYv2eMSmV3n0wzFixnQM*1P-RtI=',\n",
       "  'digest': '使用sklearn自带的贝叶斯分类器进行文本分类和参数调优',\n",
       "  'source_url': 'http://mp.weixin.qq.com/s/lKntcRuvLlu7e9jzvppwow',\n",
       "  'title': '【学习】使用sklearn自带的贝叶斯分类器进行文本分类和参数调优'},\n",
       " {'content_url': 'http://mp.weixin.qq.com/s?timestamp=1492051488&src=3&ver=1&signature=TulQT7ydSdqHu*2P9v3c*q8XfbOq8KMh2hSist92bNZ*VSynayYuHOxCWCVeNXXZokB*8QhSVRfLBt5qW90lUW2Z3U9uXexdbiiV45LXAlAfXoLDem4N0nGRAOskG5T06CWdqbbovAZN*HDJRR6T9IpiGnahUcYSZaoNUTnrfU0=',\n",
       "  'digest': '2017年4月历史文章汇总',\n",
       "  'source_url': '',\n",
       "  'title': '2017年4月历史文章汇总'}]"
      ]
     },
     "execution_count": 54,
     "metadata": {},
     "output_type": "execute_result"
    }
   ],
   "source": [
    "useful_info_list"
   ]
  },
  {
   "cell_type": "code",
   "execution_count": 57,
   "metadata": {
    "collapsed": true
   },
   "outputs": [],
   "source": [
    "key_word = ['预告', '报名']\n",
    "extract_url_list = []\n",
    "title_list = []\n",
    "for i in useful_info_list:\n",
    "    title = i['title']\n",
    "    digest = i['digest']\n",
    "    source_url = i['source_url']\n",
    "    content_url = i['content_url']\n",
    "    for keyword in key_word:\n",
    "        if (keyword in title) or (keyword in digest):\n",
    "            if title not in title_list:\n",
    "                extract_url_list.append(title + ' ' + content_url)\n",
    "            \n",
    "            title_list.append(title)\n",
    "            title_list = set(title_list)\n",
    "            title_list = list(title_list)\n",
    "            \n",
    "    if 'huodongxing' in source_url and (title not in title_list):\n",
    "        extract_url_list.append(title + ' ' + content_url)"
   ]
  },
  {
   "cell_type": "code",
   "execution_count": 58,
   "metadata": {
    "collapsed": false
   },
   "outputs": [
    {
     "data": {
      "text/plain": [
       "['【预告】北大AI第七讲：百度IDL杰出科学家  徐伟---通用人工智能的现状及展望 http://mp.weixin.qq.com/s?timestamp=1492051488&src=3&ver=1&signature=TulQT7ydSdqHu*2P9v3c*q8XfbOq8KMh2hSist92bNZ*VSynayYuHOxCWCVeNXXZokB*8QhSVRfLBt5qW90lUU9AubPD0xn8mAc6qiTgXzvucdlhW54Lu2RddQdlJPzycQudtw03ExypkVkMValLv8wkyFY52yCAOBe3n7D1F0Y=',\n",
       " '【竞赛】国内首个迁移学习赛题上线，速来报名！ http://mp.weixin.qq.com/s?timestamp=1492051488&src=3&ver=1&signature=TulQT7ydSdqHu*2P9v3c*q8XfbOq8KMh2hSist92bNZ*VSynayYuHOxCWCVeNXXZokB*8QhSVRfLBt5qW90lUcmldPWn*Q9G9PMKzZP4xcWt0gIOpyxPeBga4bBCNhHanuaedoy7sdOj-uF2VWCNgC2BPWMMim36T0x1FFkzCOg=',\n",
       " '【报名】MIT在读博士薛天帆：运动辅助视频处理和合成 http://mp.weixin.qq.com/s?timestamp=1492051488&src=3&ver=1&signature=TulQT7ydSdqHu*2P9v3c*q8XfbOq8KMh2hSist92bNZ*VSynayYuHOxCWCVeNXXZokB*8QhSVRfLBt5qW90lUceGDMw*1r5BcXbDMKW2VFe65y8cbzbw1SJ0l*8JTSxHAhQZOvk8YfnutBCDOLAAnbInu39sxO6Lii*Zvzo2iVg=']"
      ]
     },
     "execution_count": 58,
     "metadata": {},
     "output_type": "execute_result"
    }
   ],
   "source": [
    "extract_url_list"
   ]
  },
  {
   "cell_type": "code",
   "execution_count": null,
   "metadata": {
    "collapsed": true
   },
   "outputs": [],
   "source": []
  }
 ],
 "metadata": {
  "anaconda-cloud": {},
  "kernelspec": {
   "display_name": "Python [conda root]",
   "language": "python",
   "name": "conda-root-py"
  },
  "language_info": {
   "codemirror_mode": {
    "name": "ipython",
    "version": 3
   },
   "file_extension": ".py",
   "mimetype": "text/x-python",
   "name": "python",
   "nbconvert_exporter": "python",
   "pygments_lexer": "ipython3",
   "version": "3.5.2"
  }
 },
 "nbformat": 4,
 "nbformat_minor": 1
}
