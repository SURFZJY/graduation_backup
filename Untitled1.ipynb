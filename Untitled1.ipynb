{
 "cells": [
  {
   "cell_type": "code",
   "execution_count": 1,
   "metadata": {
    "collapsed": false
   },
   "outputs": [
    {
     "name": "stderr",
     "output_type": "stream",
     "text": [
      "Using TensorFlow backend.\n"
     ]
    }
   ],
   "source": [
    "from keras.models import Sequential, Model\n",
    "from keras.layers import Convolution2D, MaxPooling2D\n",
    "from keras.layers import Activation, Dropout, Flatten, Dense \n",
    "from keras.preprocessing.image import load_img , img_to_array\n",
    "from keras.callbacks import CSVLogger\n",
    "from keras.utils import np_utils\n",
    "from keras.utils.visualize_util import plot\n",
    "from keras.applications.vgg16 import VGG16, preprocess_input\n",
    "from sklearn.cross_validation import train_test_split, cross_val_score, KFold\n",
    "from prettytable import PrettyTable\n",
    "import numpy as np\n",
    "import os "
   ]
  },
  {
   "cell_type": "code",
   "execution_count": 2,
   "metadata": {
    "collapsed": true
   },
   "outputs": [],
   "source": [
    "def generate_data(path):\n",
    "    files = os.listdir(path)\n",
    "    data = []\n",
    "    labels = []\n",
    "    nb_classes = len(files)\n",
    "    class_name = []\n",
    "    class_list = []\n",
    "    \n",
    "    for i in range(nb_classes):\n",
    "        sub_path = path + '\\\\' + files[i]  \n",
    "        pics = os.listdir(sub_path)\n",
    "        nb_pics = len(pics)\n",
    "        file_name = files[i]\n",
    "        class_name.append(file_name)\n",
    "        class_list.append(nb_pics)\n",
    "        for j in range(nb_pics):\n",
    "            img_path = sub_path + '\\\\' + pics[j]\n",
    "            img = load_img(img_path)\n",
    "            x = img_to_array(img)\n",
    "            data.append(x)\n",
    "            labels.append(i)\n",
    "    data = np.array(data)\n",
    "    labels = np.array(labels)\n",
    "    print(sum(class_list), \"samples in\", nb_classes, \"categories\")\n",
    "    print(\"The shape of each sample is\", x.shape)\n",
    "    table = PrettyTable([\"Class_name\", \"Samples_number\", \"Label\"])\n",
    "    table.align[\"Class_name\"] = \"l\"\n",
    "    table.padding_width = 1\n",
    "    for i in range(nb_classes):\n",
    "        table.add_row([class_name[i], class_list[i], i])\n",
    "    print(table)\n",
    "    print(\"Generated data_size is\", data.shape)\n",
    "    print(\"Generated labels_size is\", labels.shape)\n",
    "    return data, labels"
   ]
  },
  {
   "cell_type": "code",
   "execution_count": 3,
   "metadata": {
    "collapsed": false
   },
   "outputs": [
    {
     "name": "stdout",
     "output_type": "stream",
     "text": [
      "784 samples in 5 categories\n",
      "The shape of each sample is (125, 125, 3)\n",
      "+---------------+----------------+-------+\n",
      "| Class_name    | Samples_number | Label |\n",
      "+---------------+----------------+-------+\n",
      "| A-sky         |      224       |   0   |\n",
      "| B-pattern     |       89       |   1   |\n",
      "| C-thick-dark  |      251       |   2   |\n",
      "| D-thick-white |      135       |   3   |\n",
      "| E-veil        |       85       |   4   |\n",
      "+---------------+----------------+-------+\n",
      "Generated data_size is (784, 125, 125, 3)\n",
      "Generated labels_size is (784,)\n"
     ]
    }
   ],
   "source": [
    "data_path = \"H:\\surfzjy\\workspace\\keras_study\\practise\\swimcat_data\"\n",
    "data, labels = generate_data(data_path)"
   ]
  },
  {
   "cell_type": "code",
   "execution_count": 4,
   "metadata": {
    "collapsed": true
   },
   "outputs": [],
   "source": [
    "data /= 255\n",
    "test_size_ratio=0.20\n",
    "n_times = 50"
   ]
  },
  {
   "cell_type": "code",
   "execution_count": 5,
   "metadata": {
    "collapsed": true
   },
   "outputs": [],
   "source": [
    "train_data, test_data, train_labels, test_labels = train_test_split(data, labels, test_size=test_size_ratio)"
   ]
  },
  {
   "cell_type": "code",
   "execution_count": 6,
   "metadata": {
    "collapsed": true
   },
   "outputs": [],
   "source": [
    "base_model = VGG16(weights='imagenet', include_top=False)\n",
    "model = Model(input=base_model.input, output=base_model.get_layer('block4_conv3').output)"
   ]
  },
  {
   "cell_type": "code",
   "execution_count": 7,
   "metadata": {
    "collapsed": false
   },
   "outputs": [],
   "source": [
    "train_bnfeature = base_model.predict(train_data)"
   ]
  },
  {
   "cell_type": "code",
   "execution_count": 8,
   "metadata": {
    "collapsed": false
   },
   "outputs": [
    {
     "data": {
      "text/plain": [
       "(627, 3, 3, 512)"
      ]
     },
     "execution_count": 8,
     "metadata": {},
     "output_type": "execute_result"
    }
   ],
   "source": [
    "train_bnfeature.shape"
   ]
  },
  {
   "cell_type": "code",
   "execution_count": 9,
   "metadata": {
    "collapsed": false
   },
   "outputs": [],
   "source": [
    "block4_conv3_f = model.predict(train_data)"
   ]
  },
  {
   "cell_type": "code",
   "execution_count": 10,
   "metadata": {
    "collapsed": false
   },
   "outputs": [
    {
     "data": {
      "text/plain": [
       "(627, 15, 15, 512)"
      ]
     },
     "execution_count": 10,
     "metadata": {},
     "output_type": "execute_result"
    }
   ],
   "source": [
    "block4_conv3_f.shape\n",
    "# (627, 15, 15, 512)"
   ]
  },
  {
   "cell_type": "code",
   "execution_count": null,
   "metadata": {
    "collapsed": true
   },
   "outputs": [],
   "source": []
  },
  {
   "cell_type": "code",
   "execution_count": null,
   "metadata": {
    "collapsed": true
   },
   "outputs": [],
   "source": []
  },
  {
   "cell_type": "code",
   "execution_count": null,
   "metadata": {
    "collapsed": true
   },
   "outputs": [],
   "source": []
  }
 ],
 "metadata": {
  "anaconda-cloud": {},
  "kernelspec": {
   "display_name": "Python [conda root]",
   "language": "python",
   "name": "conda-root-py"
  },
  "language_info": {
   "codemirror_mode": {
    "name": "ipython",
    "version": 3
   },
   "file_extension": ".py",
   "mimetype": "text/x-python",
   "name": "python",
   "nbconvert_exporter": "python",
   "pygments_lexer": "ipython3",
   "version": "3.5.2"
  }
 },
 "nbformat": 4,
 "nbformat_minor": 1
}
