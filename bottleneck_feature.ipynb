{
 "cells": [
  {
   "cell_type": "code",
   "execution_count": 1,
   "metadata": {
    "collapsed": false
   },
   "outputs": [
    {
     "name": "stderr",
     "output_type": "stream",
     "text": [
      "Using TensorFlow backend.\n"
     ]
    }
   ],
   "source": [
    "from keras.preprocessing.image import load_img , img_to_array\n",
    "from prettytable import PrettyTable\n",
    "import numpy as np\n",
    "import os \n",
    "\n",
    "def generate_data(path):\n",
    "    \"\"\"Load image data from the root directory.\n",
    "    \n",
    "    Load image data from the root directory and convert it \n",
    "    to numpy array format, automatically generate data and \n",
    "    its corresponding labels.\n",
    "    \n",
    "    # Parameters\n",
    "        path : str\n",
    "            path of the data directory\n",
    "            in the format like:\n",
    "            path/\n",
    "                dogs/\n",
    "                    dog001.jpg\n",
    "                    dog002.jpg\n",
    "                    ...\n",
    "                cats/\n",
    "                    cat001/jpg\n",
    "                    cat002.jpg\n",
    "                    ...\n",
    "                elephants/\n",
    "                    elephant001.jpg\n",
    "                    elephant002.jpg\n",
    "                    ...\n",
    "    # Returns\n",
    "        numpy array tuple: (data, labels)\n",
    "    \"\"\"\n",
    "    files = os.listdir(path)\n",
    "    data = []\n",
    "    labels = []\n",
    "    nb_classes = len(files)\n",
    "    class_name = []\n",
    "    class_list = []\n",
    "    \n",
    "    for i in range(nb_classes):\n",
    "        sub_path = path + '\\\\' + files[i]  \n",
    "        pics = os.listdir(sub_path)\n",
    "        nb_pics = len(pics)\n",
    "        file_name = files[i]\n",
    "        class_name.append(file_name)\n",
    "        class_list.append(nb_pics)\n",
    "        for j in range(nb_pics):\n",
    "            img_path = sub_path + '\\\\' + pics[j]\n",
    "            img = load_img(img_path)\n",
    "            x = img_to_array(img)\n",
    "            data.append(x)\n",
    "            labels.append(i)\n",
    "    \n",
    "    data = np.array(data)\n",
    "    labels = np.array(labels)\n",
    "    print(sum(class_list), \"samples in\", nb_classes, \"categories\")\n",
    "    print(\"The shape of each sample is\", x.shape)\n",
    "    table = PrettyTable([\"Class_name\", \"Samples_number\", \"Label\"])\n",
    "    table.align[\"Class_name\"] = \"l\"\n",
    "    table.padding_width = 1\n",
    "    for i in range(nb_classes):\n",
    "        table.add_row([class_name[i], class_list[i], i])\n",
    "    print(table)\n",
    "    print(\"Generated data_size is\", data.shape)\n",
    "    print(\"Generated labels_size is\", labels.shape)\n",
    "    return data, labels\n"
   ]
  },
  {
   "cell_type": "code",
   "execution_count": 2,
   "metadata": {
    "collapsed": false
   },
   "outputs": [],
   "source": [
    "from keras.models import Sequential \n",
    "from keras.layers import Convolution2D, MaxPooling2D\n",
    "from keras.layers import Activation, Dropout, Flatten, Dense \n",
    "from keras.preprocessing.image import load_img , img_to_array\n",
    "from keras.callbacks import CSVLogger\n",
    "from keras.utils import np_utils\n",
    "from keras.utils.visualize_util import plot\n",
    "from keras.applications.vgg16 import VGG16, preprocess_input\n",
    "from sklearn.cross_validation import train_test_split, cross_val_score, KFold\n",
    "from prettytable import PrettyTable\n",
    "import numpy as np\n",
    "import os"
   ]
  },
  {
   "cell_type": "code",
   "execution_count": 3,
   "metadata": {
    "collapsed": false
   },
   "outputs": [
    {
     "name": "stdout",
     "output_type": "stream",
     "text": [
      "784 samples in 5 categories\n",
      "The shape of each sample is (125, 125, 3)\n",
      "+---------------+----------------+-------+\n",
      "| Class_name    | Samples_number | Label |\n",
      "+---------------+----------------+-------+\n",
      "| A-sky         |      224       |   0   |\n",
      "| B-pattern     |       89       |   1   |\n",
      "| C-thick-dark  |      251       |   2   |\n",
      "| D-thick-white |      135       |   3   |\n",
      "| E-veil        |       85       |   4   |\n",
      "+---------------+----------------+-------+\n",
      "Generated data_size is (784, 125, 125, 3)\n",
      "Generated labels_size is (784,)\n"
     ]
    }
   ],
   "source": [
    "data, labels = generate_data(\"H:\\surfzjy\\workspace\\keras_study\\practise\\swimcat_data\")"
   ]
  },
  {
   "cell_type": "code",
   "execution_count": 4,
   "metadata": {
    "collapsed": true
   },
   "outputs": [],
   "source": [
    "data /= 255\n",
    "test_size_ratio=0.20\n",
    "train_data, test_data, train_labels, test_labels = train_test_split(data, labels, test_size=test_size_ratio)"
   ]
  },
  {
   "cell_type": "code",
   "execution_count": 5,
   "metadata": {
    "collapsed": true
   },
   "outputs": [],
   "source": [
    "model = VGG16(weights='imagenet', include_top=False)"
   ]
  },
  {
   "cell_type": "code",
   "execution_count": 6,
   "metadata": {
    "collapsed": false
   },
   "outputs": [],
   "source": [
    "train_bnfeature = model.predict(train_data)\n",
    "test_bnfeature = model.predict(test_data)"
   ]
  },
  {
   "cell_type": "code",
   "execution_count": 8,
   "metadata": {
    "collapsed": false
   },
   "outputs": [],
   "source": [
    "np.save(open('train_bnfeature.npy', 'wb'), train_bnfeature)\n",
    "np.save(open('test_bnfeature.npy', 'wb'), test_bnfeature)"
   ]
  },
  {
   "cell_type": "code",
   "execution_count": 11,
   "metadata": {
    "collapsed": false
   },
   "outputs": [],
   "source": [
    "train_labels = np_utils.to_categorical(train_labels, nb_classes=5)\n",
    "test_labels = np_utils.to_categorical(test_labels, nb_classes=5)"
   ]
  },
  {
   "cell_type": "code",
   "execution_count": 14,
   "metadata": {
    "collapsed": false
   },
   "outputs": [],
   "source": [
    "train_data = np.load(open('train_bnfeature.npy','rb'))\n",
    "test_data = np.load(open('test_bnfeature.npy','rb'))"
   ]
  },
  {
   "cell_type": "code",
   "execution_count": 15,
   "metadata": {
    "collapsed": false
   },
   "outputs": [],
   "source": [
    "model = Sequential()\n",
    "model.add(Flatten(input_shape=train_bnfeature.shape[1:]))\n",
    "model.add(Dense(256))\n",
    "model.add(Activation('relu'))\n",
    "model.add(Dropout(0.5))\n",
    "model.add(Dense(5))\n",
    "model.add(Activation('softmax'))\n",
    "\n",
    "model.compile(optimizer='rmsprop',\n",
    "              loss='categorical_crossentropy',\n",
    "              metrics=['accuracy'])"
   ]
  },
  {
   "cell_type": "code",
   "execution_count": 16,
   "metadata": {
    "collapsed": false
   },
   "outputs": [
    {
     "name": "stdout",
     "output_type": "stream",
     "text": [
      "Epoch 1/50\n",
      "627/627 [==============================] - 1s - loss: 1.3701 - acc: 0.4721     \n",
      "Epoch 2/50\n",
      "627/627 [==============================] - 0s - loss: 0.8279 - acc: 0.6826     \n",
      "Epoch 3/50\n",
      "627/627 [==============================] - 0s - loss: 0.5560 - acc: 0.8293     \n",
      "Epoch 4/50\n",
      "627/627 [==============================] - 0s - loss: 0.4618 - acc: 0.8453     \n",
      "Epoch 5/50\n",
      "627/627 [==============================] - 0s - loss: 0.3616 - acc: 0.8740     \n",
      "Epoch 6/50\n",
      "627/627 [==============================] - 0s - loss: 0.2892 - acc: 0.8947     \n",
      "Epoch 7/50\n",
      "627/627 [==============================] - 0s - loss: 0.2602 - acc: 0.9203     \n",
      "Epoch 8/50\n",
      "627/627 [==============================] - 0s - loss: 0.2472 - acc: 0.9011     \n",
      "Epoch 9/50\n",
      "627/627 [==============================] - 0s - loss: 0.2107 - acc: 0.9362     \n",
      "Epoch 10/50\n",
      "627/627 [==============================] - 0s - loss: 0.1759 - acc: 0.9346     \n",
      "Epoch 11/50\n",
      "627/627 [==============================] - 0s - loss: 0.1758 - acc: 0.9330     \n",
      "Epoch 12/50\n",
      "627/627 [==============================] - 0s - loss: 0.1384 - acc: 0.9537     \n",
      "Epoch 13/50\n",
      "627/627 [==============================] - 0s - loss: 0.1500 - acc: 0.9490     \n",
      "Epoch 14/50\n",
      "627/627 [==============================] - 0s - loss: 0.1307 - acc: 0.9569     \n",
      "Epoch 15/50\n",
      "627/627 [==============================] - 0s - loss: 0.1284 - acc: 0.9506     \n",
      "Epoch 16/50\n",
      "627/627 [==============================] - 0s - loss: 0.1299 - acc: 0.9633     \n",
      "Epoch 17/50\n",
      "627/627 [==============================] - 0s - loss: 0.1166 - acc: 0.9522     \n",
      "Epoch 18/50\n",
      "627/627 [==============================] - 0s - loss: 0.0931 - acc: 0.9697     \n",
      "Epoch 19/50\n",
      "627/627 [==============================] - 0s - loss: 0.1023 - acc: 0.9633     \n",
      "Epoch 20/50\n",
      "627/627 [==============================] - 0s - loss: 0.0926 - acc: 0.9729     \n",
      "Epoch 21/50\n",
      "627/627 [==============================] - 0s - loss: 0.0944 - acc: 0.9617     \n",
      "Epoch 22/50\n",
      "627/627 [==============================] - 0s - loss: 0.0958 - acc: 0.9665     \n",
      "Epoch 23/50\n",
      "627/627 [==============================] - 0s - loss: 0.0991 - acc: 0.9665     \n",
      "Epoch 24/50\n",
      "627/627 [==============================] - 0s - loss: 0.0957 - acc: 0.9601     \n",
      "Epoch 25/50\n",
      "627/627 [==============================] - 0s - loss: 0.0802 - acc: 0.9681     \n",
      "Epoch 26/50\n",
      "627/627 [==============================] - 0s - loss: 0.0831 - acc: 0.9713     \n",
      "Epoch 27/50\n",
      "627/627 [==============================] - 0s - loss: 0.0873 - acc: 0.9569     \n",
      "Epoch 28/50\n",
      "627/627 [==============================] - 0s - loss: 0.0608 - acc: 0.9809     \n",
      "Epoch 29/50\n",
      "627/627 [==============================] - 0s - loss: 0.0822 - acc: 0.9713     \n",
      "Epoch 30/50\n",
      "627/627 [==============================] - 0s - loss: 0.0646 - acc: 0.9809     \n",
      "Epoch 31/50\n",
      "627/627 [==============================] - 0s - loss: 0.0619 - acc: 0.9745     \n",
      "Epoch 32/50\n",
      "627/627 [==============================] - 0s - loss: 0.0713 - acc: 0.9713     \n",
      "Epoch 33/50\n",
      "627/627 [==============================] - 0s - loss: 0.0676 - acc: 0.9761     \n",
      "Epoch 34/50\n",
      "627/627 [==============================] - 0s - loss: 0.0449 - acc: 0.9825     \n",
      "Epoch 35/50\n",
      "627/627 [==============================] - 0s - loss: 0.0591 - acc: 0.9793     \n",
      "Epoch 36/50\n",
      "627/627 [==============================] - 0s - loss: 0.0537 - acc: 0.9841     \n",
      "Epoch 37/50\n",
      "627/627 [==============================] - 0s - loss: 0.0559 - acc: 0.9793     \n",
      "Epoch 38/50\n",
      "627/627 [==============================] - 0s - loss: 0.0595 - acc: 0.9825     \n",
      "Epoch 39/50\n",
      "627/627 [==============================] - 0s - loss: 0.0514 - acc: 0.9793     \n",
      "Epoch 40/50\n",
      "627/627 [==============================] - 0s - loss: 0.0678 - acc: 0.9761     \n",
      "Epoch 41/50\n",
      "627/627 [==============================] - 0s - loss: 0.0481 - acc: 0.9809     \n",
      "Epoch 42/50\n",
      "627/627 [==============================] - 0s - loss: 0.0630 - acc: 0.9713     \n",
      "Epoch 43/50\n",
      "627/627 [==============================] - 0s - loss: 0.0494 - acc: 0.9777     \n",
      "Epoch 44/50\n",
      "627/627 [==============================] - 0s - loss: 0.0501 - acc: 0.9809     \n",
      "Epoch 45/50\n",
      "627/627 [==============================] - 0s - loss: 0.0466 - acc: 0.9872     \n",
      "Epoch 46/50\n",
      "627/627 [==============================] - 0s - loss: 0.0294 - acc: 0.9904     \n",
      "Epoch 47/50\n",
      "627/627 [==============================] - 0s - loss: 0.0392 - acc: 0.9856     \n",
      "Epoch 48/50\n",
      "627/627 [==============================] - 0s - loss: 0.0390 - acc: 0.9841     \n",
      "Epoch 49/50\n",
      "627/627 [==============================] - 0s - loss: 0.0463 - acc: 0.9856     \n",
      "Epoch 50/50\n",
      "627/627 [==============================] - 0s - loss: 0.0433 - acc: 0.9856     \n"
     ]
    },
    {
     "data": {
      "text/plain": [
       "<keras.callbacks.History at 0x17f82994898>"
      ]
     },
     "execution_count": 16,
     "metadata": {},
     "output_type": "execute_result"
    }
   ],
   "source": [
    "model.fit(train_data, train_labels, \n",
    "          nb_epoch=50, batch_size=16)"
   ]
  },
  {
   "cell_type": "code",
   "execution_count": 17,
   "metadata": {
    "collapsed": false
   },
   "outputs": [
    {
     "name": "stdout",
     "output_type": "stream",
     "text": [
      "Test accuracy: 0.955414012739\n"
     ]
    }
   ],
   "source": [
    "score = model.evaluate(test_data, test_labels, verbose=0)\n",
    "print('Test accuracy:', score[1])"
   ]
  }
 ],
 "metadata": {
  "anaconda-cloud": {},
  "kernelspec": {
   "display_name": "Python [conda root]",
   "language": "python",
   "name": "conda-root-py"
  },
  "language_info": {
   "codemirror_mode": {
    "name": "ipython",
    "version": 3
   },
   "file_extension": ".py",
   "mimetype": "text/x-python",
   "name": "python",
   "nbconvert_exporter": "python",
   "pygments_lexer": "ipython3",
   "version": "3.5.2"
  }
 },
 "nbformat": 4,
 "nbformat_minor": 1
}
