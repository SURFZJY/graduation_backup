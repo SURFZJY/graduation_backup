{
 "cells": [
  {
   "cell_type": "code",
   "execution_count": 143,
   "metadata": {
    "collapsed": true
   },
   "outputs": [],
   "source": [
    "jqzx = r'http://mp.weixin.qq.com/profile?src=3&timestamp=1491645247&ver=1&signature=K2wxpB9JUneBwtsAUzRAKK6NXcK2XYK2Bi-lab7Xv-KYsJwuZqtnLvGDso6c6PMil4hxJMW57A3kVxqS9BtQRQ=='"
   ]
  },
  {
   "cell_type": "code",
   "execution_count": null,
   "metadata": {
    "collapsed": true
   },
   "outputs": [],
   "source": [
    "r = requests.get(jqzx, headers)"
   ]
  },
  {
   "cell_type": "code",
   "execution_count": 120,
   "metadata": {
    "collapsed": false
   },
   "outputs": [],
   "source": [
    "text = r.text"
   ]
  },
  {
   "cell_type": "code",
   "execution_count": 121,
   "metadata": {
    "collapsed": false
   },
   "outputs": [],
   "source": [
    "soup = BeautifulSoup(text , \"html.parser\")"
   ]
  },
  {
   "cell_type": "code",
   "execution_count": 122,
   "metadata": {
    "collapsed": false
   },
   "outputs": [],
   "source": [
    "pattern = r'\"content_url\":\"(.*?)\",\"copyright_stat\"'"
   ]
  },
  {
   "cell_type": "code",
   "execution_count": 123,
   "metadata": {
    "collapsed": false
   },
   "outputs": [],
   "source": [
    "x = re.findall(pattern, str(soup))"
   ]
  },
  {
   "cell_type": "code",
   "execution_count": 124,
   "metadata": {
    "collapsed": false
   },
   "outputs": [],
   "source": [
    "baseurl = r'http://mp.weixin.qq.com'"
   ]
  },
  {
   "cell_type": "code",
   "execution_count": 125,
   "metadata": {
    "collapsed": true
   },
   "outputs": [],
   "source": [
    "url_list = []"
   ]
  },
  {
   "cell_type": "code",
   "execution_count": 126,
   "metadata": {
    "collapsed": false
   },
   "outputs": [],
   "source": [
    "for i in x:\n",
    "    url_list.append(baseurl+i)"
   ]
  },
  {
   "cell_type": "code",
   "execution_count": 127,
   "metadata": {
    "collapsed": false
   },
   "outputs": [],
   "source": [
    "tmp_url = url_list[0]"
   ]
  },
  {
   "cell_type": "code",
   "execution_count": 128,
   "metadata": {
    "collapsed": true
   },
   "outputs": [],
   "source": [
    "r = requests.get(tmp_url, headers)"
   ]
  },
  {
   "cell_type": "code",
   "execution_count": 129,
   "metadata": {
    "collapsed": false
   },
   "outputs": [
    {
     "ename": "AttributeError",
     "evalue": "'Response' object has no attribute 'title'",
     "output_type": "error",
     "traceback": [
      "\u001b[0;31m---------------------------------------------------------------------------\u001b[0m",
      "\u001b[0;31mAttributeError\u001b[0m                            Traceback (most recent call last)",
      "\u001b[0;32m<ipython-input-129-801a582e7200>\u001b[0m in \u001b[0;36m<module>\u001b[0;34m()\u001b[0m\n\u001b[0;32m----> 1\u001b[0;31m \u001b[0mr\u001b[0m\u001b[1;33m.\u001b[0m\u001b[0mtitle\u001b[0m\u001b[1;33m\u001b[0m\u001b[0m\n\u001b[0m",
      "\u001b[0;31mAttributeError\u001b[0m: 'Response' object has no attribute 'title'"
     ]
    }
   ],
   "source": [
    "r.title"
   ]
  },
  {
   "cell_type": "code",
   "execution_count": 130,
   "metadata": {
    "collapsed": false
   },
   "outputs": [
    {
     "data": {
      "text/plain": [
       "'http://mp.weixin.qq.com/s?timestamp=1491657931&amp;src=3&amp;ver=1&amp;signature=gjTR1J-aKjOFwP5j*TYbCaWezalQwlEKjVOcptuvbPvwOFFgLodCAa4gKDv0D7ezqBtMAyNojucurCfIP0Rdqj9edsnJqInStTncM9D74xuO9DhE71b7tKEjWhXgenhuDQ6zqtRbKkcdZnGqBC6rDxgdor-rczxENCx8FIU2r*8='"
      ]
     },
     "execution_count": 130,
     "metadata": {},
     "output_type": "execute_result"
    }
   ],
   "source": [
    "tmp_url"
   ]
  },
  {
   "cell_type": "code",
   "execution_count": 132,
   "metadata": {
    "collapsed": true
   },
   "outputs": [],
   "source": []
  },
  {
   "cell_type": "code",
   "execution_count": 1,
   "metadata": {
    "collapsed": true
   },
   "outputs": [],
   "source": [
    "import requests\n",
    "import re\n",
    "from bs4 import BeautifulSoup"
   ]
  },
  {
   "cell_type": "code",
   "execution_count": 2,
   "metadata": {
    "collapsed": false
   },
   "outputs": [],
   "source": [
    "# 搜索‘机器之心’相关微信公众号的页面URL\n",
    "query_url = r'http://weixin.sogou.com/weixin?type=1&s_from=input&query=%E6%9C%BA%E5%99%A8%E4%B9%8B%E5%BF%83&ie=utf8&_sug_=n&_sug_type_='"
   ]
  },
  {
   "cell_type": "code",
   "execution_count": 3,
   "metadata": {
    "collapsed": false
   },
   "outputs": [],
   "source": [
    "headers = {\n",
    "    'User-Agent':'Mozilla/5.0 (Windows NT 10.0; Win64; x64) AppleWebKit/537.36 (KHTML, like Gecko) Chrome/57.0.2987.133 Safari/537.36',\n",
    "    'Host':'weixin.sogou.com',\n",
    "    'Connection':'keep-alive',\n",
    "    }\n",
    "r = requests.get(query_url, headers)"
   ]
  },
  {
   "cell_type": "code",
   "execution_count": 4,
   "metadata": {
    "collapsed": false
   },
   "outputs": [],
   "source": [
    "text = r.text"
   ]
  },
  {
   "cell_type": "code",
   "execution_count": 5,
   "metadata": {
    "collapsed": true
   },
   "outputs": [],
   "source": [
    "soup = BeautifulSoup(text , \"html.parser\")"
   ]
  },
  {
   "cell_type": "code",
   "execution_count": 6,
   "metadata": {
    "collapsed": false
   },
   "outputs": [
    {
     "data": {
      "text/plain": [
       "<title>机器之心的相关微信公众号 – 搜狗微信搜索</title>"
      ]
     },
     "execution_count": 6,
     "metadata": {},
     "output_type": "execute_result"
    }
   ],
   "source": [
    "soup.title"
   ]
  },
  {
   "cell_type": "code",
   "execution_count": 7,
   "metadata": {
    "collapsed": false
   },
   "outputs": [
    {
     "data": {
      "text/plain": [
       "'\\r\\n<!doctype html>\\r\\n<html>\\r\\n<head>\\r\\n    <link rel=\"shortcut icon\" href=\"http://logo.www.sogou.com/images/logo2014/new/favicon.ico\" type=\"image/x-icon\">\\r\\n    <link href=\"/logo-safari.png?v=20170315\" id=\"apple-touch-icon\" rel=\"apple-touch-icon-precomposed\"/>\\r\\n    <link href=\"https://www.sogou.com/sug/css/m3.min.v.7.css\" rel=\"stylesheet\" type=\"text/css\">\\r\\n    <link href=\"/new/pc/css/weixin-public-new.min.css?v=20170315\" rel=\"stylesheet\" type=\"text/css\">\\r\\n    \\r\\n    <meta http-equiv=\"X-UA-Compatible\" content=\"IE=Edge\">\\r\\n    <meta charset=\"utf-8\">\\r\\n    <title>机器之心的相关微信公众号 – 搜狗微信搜索</title>\\r\\n    \\r\\n    <script>\\r\\n        var sst = {h_s :(new Date()).getTime()};\\r\\n        var newpage = 1;\\r\\n        var passportUserId = \"\";\\r\\n        var oldQuery = \"机器之心\";\\r\\n        var gbkQuery = \"%BB%FA%C6%F7%D6%AE%D0%C4\";\\r\\n        var uuid = \"ecc71720-51ab-4917-96c9-4e0a75a3f367\";\\r\\n        var keywords_string = \"机器之心\";\\r\\n        var sab = \"0\";\\r\\n        var keywords = oldQuery.split(\\' \\');\\r\\n        var now = 1491964274047;\\r\\n        var idc = \"sjs\";\\r\\n        var clientIp = \"159.226.21.85\";\\r\\n        //var article_anti_url = \"\";\\r\\n    </script>\\r\\n    <script>\\r\\n        //以下为动态的全局 js，防止外部网站通过 window.opener.location 篡改我们的页面，以后不要通过 window.location 获取当前地址，只能用 document.location\\r\\n        \\r\\n    </script>\\r\\n    <script src=\"/js/jquery-1.11.0.min.js\" charset=\"gbk\"></script>\\r\\n    <script src=\"/js/lib/juicer-min.js\"></script>\\r\\n    <script src=\"/new/weixin/js/common.min.js?v=20170228\"></script>\\r\\n    <script src=\"/new/pc/js/common.min.js?v=20170321\"></script>\\r\\n    <script>\\r\\n        var uigs_para = {\\r\\n            \"uigs_productid\": \"vs_web\",\\r\\n            \"terminal\"      : \"web\",\\r\\n            \"vstype\"        : \"weixin\",\\r\\n            \"pagetype\"      : \"result\",\\r\\n            \"channel\"       : \"result_account\",\\r\\n            \"s_from\"        : \"input\",\\r\\n            \"sourceid\"      : \"\",\\r\\n            \"type\"          : \"weixin_search_pc\",\\r\\n            \"uigs_cookie\"   : \"SUID,sct\",\\r\\n            \"uuid\"          : \"ecc71720-51ab-4917-96c9-4e0a75a3f367\",\\r\\n            \"query\"         : \"机器之心\",\\r\\n            \"weixintype\"    : \"1\",\\r\\n            \"exp_status\"    : \"-1\",\\r\\n            \"exp_id_list\"   : \"0_0\",\\r\\n            \"wuid\"          : \"null\",\\r\\n            \"rn\"            : 1,\\r\\n            \"login\"         : passportUserId ? \"1\" : \"0\",\\r\\n            \"page\"          : \"1\"\\r\\n        };\\r\\n    </script>\\r\\n</head>\\r\\n<body>\\r\\n    \\r\\n\\r\\n<!--start header-->\\r\\n<div class=\"header-box\">\\r\\n    \\r\\n    <div class=\"login-info\">\\r\\n        <a id=\"top_login\" href=\"javascript:void(0);\" uigs=\"home_login_top\">登录</a>\\r\\n    </div>\\r\\n\\r\\n    <div class=\"header\" id=\"scroll-header\">\\r\\n        <a title=\"回到搜狗首页\" href=\"/\" name=\"scroll-nav\" class=\"logo\" uigs=\"home\"></a>\\r\\n        <ul class=\"searchnav\" name=\"scroll-nav\">\\r\\n            <li><a id=\"sogou_xinwen\" href=\"http://news.sogou.com/news?ie=utf8&p=40230447&query=机器之心\" onclick=\"navBar(this,\\'query=\\',true);\" uigs=\"nav_xinwen\">新闻</a></li>\\r\\n            <li><a id=\"sogou_wangye\" href=\"http://www.sogou.com/web?ie=utf8&query=机器之心\" onclick=\"navBar(this,\\'query=\\',true);\" uigs=\"nav_wangye\">网页</a></li>\\r\\n            <li class=\"cur\"><a href=\"javascript:void(0)\">微信</a></li>\\r\\n            <li><a id=\"sogou_zhihu\" href=\"http://zhihu.sogou.com/zhihu?ie=utf8&p=73351201&query=机器之心\" onclick=\"navBar(this,\\'query=\\',true)\" uigs=\"nav_zhihu\">知乎</a></li>\\r\\n            <li><a id=\"sogou_tupian\" href=\"http://pic.sogou.com/pics?ie=utf8&p=40230504&query=机器之心\" onclick=\"navBar(this,\\'query=\\',true)\" uigs=\"nav_tupian\">图片</a></li>\\r\\n            <li><a id=\"sogou_shipin\" href=\"http://v.sogou.com/v?ie=utf8&p=40230608&query=机器之心\" onclick=\"navBar(this,\\'query=\\',true)\" uigs=\"nav_shipin\">视频</a></li>\\r\\n            <li><a id=\"sogou_mingyi\" href=\"http://mingyi.sogou.com/mingyi?ie=utf8&query=机器之心\" onclick=\"navBar(this,\\'query=\\',true)\" uigs=\"nav_mingyi\">明医</a></li>\\r\\n            \\r\\n            <li><a id=\"sogou_xueshu\" href=\"http://scholar.sogou.com/xueshu?ie=utf-8&query=机器之心\" onclick=\"navBar(this,\\'query=\\',true)\" uigs=\"nav_xueshu\">学术</a></li>\\r\\n            <li><a id=\"top_more\" href=\"http://www.sogou.com/docs/more.htm?v=1\" target=\"_blank\" uigs=\"nav_more\">更多>></a></li>\\r\\n        </ul>\\r\\n        \\r\\n\\r\\n<form name=\"searchForm\" action=\"/weixin\">\\r\\n    <div class=\"querybox\">\\r\\n        <div class=\"qborder\">\\r\\n            <div class=\"qborder2\">\\r\\n                <input type=\"hidden\" name=\"type\" value=\"1\"/>\\r\\n                <input type=\"hidden\" name=\"s_from\" value=\"input\"/>\\r\\n                <input type=\"text\" class=\"query\" name=\"query\" id=\"query\" ov=\"机器之心\" value=\"机器之心\" autocomplete=\"off\"/>\\r\\n                \\r\\n                    <input type=\"hidden\" name=\"ie\" value=\"utf8\"/>\\r\\n                \\r\\n                <a href=\"javascript:void(0)\" class=\"qreset2\" name=\"reset\" uigs=\"search_reset\"></a>\\r\\n            </div>\\r\\n        </div>\\r\\n        <input type=\"button\" value=\"搜文章\" class=\"swz\" onclick=\"search(this,2)\"  uigs=\"search_article\"/>\\r\\n        <input type=\"button\" value=\"搜公众号\" class=\"swz2\"  onclick=\"search(this,1)\" uigs=\"search_account\"/>\\r\\n        <input type=\"hidden\" name=\"_sug_\" value=\"n\"/>\\r\\n        <input type=\"hidden\" name=\"_sug_type_\" value=\"\"/>\\r\\n    </div>\\r\\n</form>\\r\\n    </div>\\r\\n</div>\\r\\n<!--end header-->\\r\\n    <div class=\"wrapper\" id=\"wrapper\">\\r\\n        <div class=\"main-left\" id=\"main\">\\r\\n            \\r\\n<div class=\"dy-pop2 dy-pop5 float\" id=\"share_box\" style=\"display: none\">\\r\\n    <a href=\"javascript:void(0)\" class=\"close\" data-except=\"1\" uigs=\"other_float_share_close\"></a>\\r\\n    <div class=\"fxico-box\">\\r\\n        <a href=\"javascript:void(0)\" class=\"sina\" data-except=\"1\" uigs=\"other_float_share_sina\"></a>\\r\\n        <a href=\"javascript:void(0)\" class=\"weixin\" data-except=\"1\" uigs=\"other_float_share_weixin\"></a>\\r\\n        <a href=\"javascript:void(0)\" class=\"zone\" target=\"_blank\" data-except=\"1\" uigs=\"other_float_share_zone\"></a>\\r\\n        <a href=\"javascript:void(0)\" class=\"tieba\" target=\"_blank\" data-except=\"1\" uigs=\"other_float_share_tieba\"></a>\\r\\n        <a href=\"javascript:void(0)\" class=\"tx\" target=\"_blank\" data-except=\"1\" uigs=\"other_float_share_tx\"></a>\\r\\n        <a href=\"javascript:void(0)\" class=\"renren\" target=\"_blank\" data-except=\"1\" uigs=\"other_float_share_renren\"></a>\\r\\n        <a href=\"javascript:void(0)\" class=\"douban\" target=\"_blank\" data-except=\"1\" uigs=\"other_float_share_douban\"></a>\\r\\n        <a href=\"javascript:void(0)\" class=\"qq\" target=\"_blank\" data-except=\"1\" uigs=\"other_float_share_qq\"></a>\\r\\n    </div>\\r\\n</div>\\r\\n\\r\\n\\r\\n<div class=\"dy-pop2 dy-pop5 float\" id=\"erweima_box\" style=\"display: none\"></div>\\r\\n<script type=\"text/template\" id=\"erweima_tpl\">\\r\\n    <a href=\"javascript:void(0)\" class=\"close\" data-except=\"1\" uigs=\"other_float_weixin_close\"></a>\\r\\n    <div class=\"fxico-box2\">微信扫一扫关注<br/><img width=\"104\" height=\"104\" src=\"${imgsrc}\"/></div>\\r\\n</script>\\r\\n            \\r\\n\\r\\n<script>\\r\\n    //高级工具参数对象\\r\\n    var toolParas = {\\r\\n        tsn : \"0\",\\r\\n        ft : \"null\",\\r\\n        et : \"null\",\\r\\n        interation : \"null\",\\r\\n        wxid : \"\",\\r\\n        usip : \"null\",\\r\\n        from : \"null\"\\r\\n    };\\r\\n</script>\\r\\n<div class=\"wx-topbox\">\\r\\n    <div class=\"all-time\">\\r\\n        <div class=\"all-time-y2 \">\\r\\n            <div class=\"all-time-y all-time-y-v1\" id=\"text\">\\r\\n                以下内容来自微信公众号\\r\\n            </div>\\r\\n            \\r\\n        </div>\\r\\n    </div>\\r\\n</div>\\r\\n\\r\\n\\r\\n<div class=\"news-box\">\\r\\n    \\n<ul class=\"news-list2\">\\n\\t\\n\\t\\t<!-- a -->\\n\\t\\t<li id=\"sogou_vr_11002301_box_0\" d=\"oIWsFtyH4wzDYSYFwlcMk8znCtfw\">\\n<div class=\"gzh-box2\">\\n<div class=\"img-box\">\\n<a target=\"_blank\" uigs=\"account_image_0\" href=\"http://mp.weixin.qq.com/profile?src=3&amp;timestamp=1491964274&amp;ver=1&amp;signature=K2wxpB9JUneBwtsAUzRAKK6NXcK2XYK2Bi-lab7Xv-KYsJwuZqtnLvGDso6c6PMi8sbfmY36exmkwHVUMBFt-w==\"><span></span><img src=\"http://img01.sogoucdn.com/app/a/100520090/oIWsFtyH4wzDYSYFwlcMk8znCtfw\" onload=\"resizeImage(this,58,58)\" onerror=\"errorHeadImage(this)\"></a>\\n</div>\\n<div class=\"txt-box\">\\n<p class=\"tit\">\\n<a target=\"_blank\" uigs=\"account_name_0\" href=\"http://mp.weixin.qq.com/profile?src=3&amp;timestamp=1491964274&amp;ver=1&amp;signature=K2wxpB9JUneBwtsAUzRAKK6NXcK2XYK2Bi-lab7Xv-KYsJwuZqtnLvGDso6c6PMi8sbfmY36exmkwHVUMBFt-w==\"><em><!--red_beg-->机器之心<!--red_end--></em></a><i></i>\\n</p>\\n<p class=\"info\">微信号：<label name=\"em_weixinhao\">almosthuman2014</label>\\n</p>\\n</div>\\n<div class=\"ew-pop\">\\n<a class=\"code\" href=\"javascript:void(0)\"><img height=\"24\" width=\"24\" src=\"/new/pc/images/ico_ewm.png\"></a><span style=\"display:none;\" class=\"pop\"><i></i>微信扫一扫关注<br>\\n<img height=\"104\" width=\"104\" src=\"http://mp.weixin.qq.com/rr?src=3&amp;timestamp=1491964274&amp;ver=1&amp;signature=5aH96-HHNG5hWjNkgD7WpP7aG9dHlQub2IDyu0niYiKkP*dYpxYukFq6F3Mpw1j-9jp0RqSs85-jAmR4TevZkK31-pAWFA6WmasPQl1uDEg=\" data-id=\"oIWsFtyH4wzDYSYFwlcMk8znCtfw\" onerror=\"qrcodeShowError(\\'http://mp.weixin.qq.com/rr?src=3&amp;timestamp=1491964274&amp;ver=1&amp;signature=5aH96-HHNG5hWjNkgD7WpP7aG9dHlQub2IDyu0niYiKkP*dYpxYukFq6F3Mpw1j-9jp0RqSs85-jAmR4TevZkK31-pAWFA6WmasPQl1uDEg=\\',4,\\'oIWsFtyH4wzDYSYFwlcMk8znCtfw\\')\"><img height=\"32\" width=\"32\" class=\"shot-img\" src=\"http://img01.sogoucdn.com/app/a/100520090/oIWsFtyH4wzDYSYFwlcMk8znCtfw\" onerror=\"errorHeadImage(this)\"></span>\\n</div>\\n</div>\\n<dl>\\n<dt>功能介绍：</dt>\\n<dd>专业的人工智能媒体和产业服务平台</dd>\\n</dl>\\n<dl>\\n<dt>\\n<script>document.write(authname(\\'2\\'))</script>认证：</dt>\\n<dd>机器之心(北京)科技有限公司</dd>\\n</dl>\\n<dl>\\n<dt>最近文章：</dt>\\n<dd>\\n<a target=\"_blank\" uigs=\"account_article_0\" href=\"http://mp.weixin.qq.com/s?src=3&amp;timestamp=1491964274&amp;ver=1&amp;signature=gNkHjxyIfDfLuuR8Vmxxt4Q-Lqz0a2MHtWDTW807L*MWbyCac966--dxirriXF5uX5*B12CEdptKOydQKLkUZ6rh8pHT0Y5p1PxfeAwzEiaTg1cZDgAWziCB-cZAzPWjjKqEuHBfbp3heubf06JdhiYSBKvSqDqMKom6ILoRAjk=\">观点 | 除了学位证书,如何证明自己的深度学习实力?</a><span><script>document.write(timeConvert(\\'1491882322\\'))</script></span>\\n</dd>\\n</dl>\\n</li>\\n\\n\\t\\t<!-- z -->\\n\\t\\n\\t\\t<!-- a -->\\n\\t\\t<li id=\"sogou_vr_11002301_box_1\" d=\"oIWsFt-c5WBcSAQWqmMJ-lCg_Oe8\">\\n<div class=\"gzh-box2\">\\n<div class=\"img-box\">\\n<a target=\"_blank\" uigs=\"account_image_1\" href=\"http://mp.weixin.qq.com/profile?src=3&amp;timestamp=1491964274&amp;ver=1&amp;signature=-klwmzsHJm*trShVvDY*5asvmeIlYPeX4rI482-COsEJwmEhfbOdiOHQzi9qJmwKQurB4rs66bNz-izNbt0vNw==\"><span></span><img src=\"http://img01.sogoucdn.com/app/a/100520090/oIWsFt-c5WBcSAQWqmMJ-lCg_Oe8\" onload=\"resizeImage(this,58,58)\" onerror=\"errorHeadImage(this)\"></a>\\n</div>\\n<div class=\"txt-box\">\\n<p class=\"tit\">\\n<a target=\"_blank\" uigs=\"account_name_1\" href=\"http://mp.weixin.qq.com/profile?src=3&amp;timestamp=1491964274&amp;ver=1&amp;signature=-klwmzsHJm*trShVvDY*5asvmeIlYPeX4rI482-COsEJwmEhfbOdiOHQzi9qJmwKQurB4rs66bNz-izNbt0vNw==\"><em><!--red_beg-->机器之心<!--red_end--></em></a>\\n</p>\\n<p class=\"info\">微信号：<label name=\"em_weixinhao\">gh_e6d666791711</label>\\n</p>\\n</div>\\n<div class=\"ew-pop\">\\n<a class=\"code\" href=\"javascript:void(0)\"><img height=\"24\" width=\"24\" src=\"/new/pc/images/ico_ewm.png\"></a><span style=\"display:none;\" class=\"pop\"><i></i>微信扫一扫关注<br>\\n<img height=\"104\" width=\"104\" src=\"http://mp.weixin.qq.com/rr?src=3&amp;timestamp=1491964274&amp;ver=1&amp;signature=8Nsl7HyXOjK8xOBIdjYnSdr2IyKFFO*WRVghxLFPgMkrzoWSGHdU5kIYApCKEUhXGt319gd3n7JrK7XEE3DZ2IrlS*6K2CeeUH0pMgflAHA=\" data-id=\"oIWsFt-c5WBcSAQWqmMJ-lCg_Oe8\" onerror=\"qrcodeShowError(\\'http://mp.weixin.qq.com/rr?src=3&amp;timestamp=1491964274&amp;ver=1&amp;signature=8Nsl7HyXOjK8xOBIdjYnSdr2IyKFFO*WRVghxLFPgMkrzoWSGHdU5kIYApCKEUhXGt319gd3n7JrK7XEE3DZ2IrlS*6K2CeeUH0pMgflAHA=\\',4,\\'oIWsFt-c5WBcSAQWqmMJ-lCg_Oe8\\')\"><img height=\"32\" width=\"32\" class=\"shot-img\" src=\"http://img01.sogoucdn.com/app/a/100520090/oIWsFt-c5WBcSAQWqmMJ-lCg_Oe8\" onerror=\"errorHeadImage(this)\"></span>\\n</div>\\n</div>\\n<dl>\\n<dt>功能介绍：</dt>\\n<dd><em><!--red_beg-->机器之心<!--red_end--></em></dd>\\n</dl>\\n</li>\\n\\n\\t\\t<!-- z -->\\n\\t\\n\\t\\t<!-- a -->\\n\\t\\t<li id=\"sogou_vr_11002301_box_2\" d=\"oIWsFt50tbqiLUjDpH7DV0a0IEvg\">\\n<div class=\"gzh-box2\">\\n<div class=\"img-box\">\\n<a target=\"_blank\" uigs=\"account_image_2\" href=\"http://mp.weixin.qq.com/profile?src=3&amp;timestamp=1491964274&amp;ver=1&amp;signature=wZsRckgtzkATCCuXufOmeOMk8j1w0AsAwEqJzEXMooxqOR6MCsuFzA0eNuc*d7Ury5RuxrA-fomvy3zVxn5UFQ==\"><span></span><img src=\"http://img01.sogoucdn.com/app/a/100520090/oIWsFt50tbqiLUjDpH7DV0a0IEvg\" onload=\"resizeImage(this,58,58)\" onerror=\"errorHeadImage(this)\"></a>\\n</div>\\n<div class=\"txt-box\">\\n<p class=\"tit\">\\n<a target=\"_blank\" uigs=\"account_name_2\" href=\"http://mp.weixin.qq.com/profile?src=3&amp;timestamp=1491964274&amp;ver=1&amp;signature=wZsRckgtzkATCCuXufOmeOMk8j1w0AsAwEqJzEXMooxqOR6MCsuFzA0eNuc*d7Ury5RuxrA-fomvy3zVxn5UFQ==\">我的<em><!--red_beg-->机器之心<!--red_end--></em></a>\\n</p>\\n<p class=\"info\">微信号：<label name=\"em_weixinhao\">China258137</label>\\n</p>\\n</div>\\n<div class=\"ew-pop\">\\n<a class=\"code\" href=\"javascript:void(0)\"><img height=\"24\" width=\"24\" src=\"/new/pc/images/ico_ewm.png\"></a><span style=\"display:none;\" class=\"pop\"><i></i>微信扫一扫关注<br>\\n<img height=\"104\" width=\"104\" src=\"http://mp.weixin.qq.com/rr?src=3&amp;timestamp=1491964274&amp;ver=1&amp;signature=Jki05FZ7F8rw0PGuRpYVCRu0yzWwLLAuYWQ8zNUzUixHh2w4K2taROp6G9u46wHk9CVPf3PbCZVKnFYIpT19EkU2KfttQAV*dLDFqWtSiXk=\" data-id=\"oIWsFt50tbqiLUjDpH7DV0a0IEvg\" onerror=\"qrcodeShowError(\\'http://mp.weixin.qq.com/rr?src=3&amp;timestamp=1491964274&amp;ver=1&amp;signature=Jki05FZ7F8rw0PGuRpYVCRu0yzWwLLAuYWQ8zNUzUixHh2w4K2taROp6G9u46wHk9CVPf3PbCZVKnFYIpT19EkU2KfttQAV*dLDFqWtSiXk=\\',4,\\'oIWsFt50tbqiLUjDpH7DV0a0IEvg\\')\"><img height=\"32\" width=\"32\" class=\"shot-img\" src=\"http://img01.sogoucdn.com/app/a/100520090/oIWsFt50tbqiLUjDpH7DV0a0IEvg\" onerror=\"errorHeadImage(this)\"></span>\\n</div>\\n</div>\\n<dl>\\n<dt>功能介绍：</dt>\\n<dd>诉说内心的一些想法,内容源网络收集.</dd>\\n</dl>\\n<dl>\\n<dt>最近文章：</dt>\\n<dd>\\n<a target=\"_blank\" uigs=\"account_article_2\" href=\"http://mp.weixin.qq.com/s?src=3&amp;timestamp=1491964274&amp;ver=1&amp;signature=KkqJjMFZ9xRJb3rhz6zvQ9wOjnAcAYKiiwzU7X4HPQQrpkrtKgOvz3U5EuIdBzNo2JglxomdnSQ5Mn8pc73gLYWDg8HdPOiWw8vcRgO1qA8jFxtVMNk6E70zD1ubSaR1tvP9*KeBCylm1JKJiFkP02htcjJ9ymBwl9TjvOUQAlk=\">&ldquo;原味主张椰子鸡&rdquo;连续三年受邀入选博鳌亚洲论坛.</a><span><script>document.write(timeConvert(\\'1490933110\\'))</script></span>\\n</dd>\\n</dl>\\n</li>\\n\\n\\t\\t<!-- z -->\\n\\t\\n\\t\\t<!-- a -->\\n\\t\\t<li id=\"sogou_vr_11002301_box_3\" d=\"oIWsFtwiv2RCu1KUXQmkeJhaU9i0\">\\n<div class=\"gzh-box2\">\\n<div class=\"img-box\">\\n<a target=\"_blank\" uigs=\"account_image_3\" href=\"http://mp.weixin.qq.com/profile?src=3&amp;timestamp=1491964274&amp;ver=1&amp;signature=nMRAuF2b8n-aDtT-yNDgNhijZXIQhL9qFiA4cRmoLHTHy2DD06F3HjPvlU0ukbImuJ*OLiMav8KlLPvAej8Twg==\"><span></span><img src=\"http://img01.sogoucdn.com/app/a/100520090/oIWsFtwiv2RCu1KUXQmkeJhaU9i0\" onload=\"resizeImage(this,58,58)\" onerror=\"errorHeadImage(this)\"></a>\\n</div>\\n<div class=\"txt-box\">\\n<p class=\"tit\">\\n<a target=\"_blank\" uigs=\"account_name_3\" href=\"http://mp.weixin.qq.com/profile?src=3&amp;timestamp=1491964274&amp;ver=1&amp;signature=nMRAuF2b8n-aDtT-yNDgNhijZXIQhL9qFiA4cRmoLHTHy2DD06F3HjPvlU0ukbImuJ*OLiMav8KlLPvAej8Twg==\"><em><!--red_beg-->机器之心<!--red_end--></em>ProU</a><i></i>\\n</p>\\n<p class=\"info\">微信号：<label name=\"em_weixinhao\">gh_b997299f6f36</label>\\n</p>\\n</div>\\n<div class=\"ew-pop\">\\n<a class=\"code\" href=\"javascript:void(0)\"><img height=\"24\" width=\"24\" src=\"/new/pc/images/ico_ewm.png\"></a><span style=\"display:none;\" class=\"pop\"><i></i>微信扫一扫关注<br>\\n<img height=\"104\" width=\"104\" src=\"http://mp.weixin.qq.com/rr?src=3&amp;timestamp=1491964274&amp;ver=1&amp;signature=5O4z-C6*gsuURlbqhIH1w6cv6ZW3DNWLeH5cU3RGLvHv0gUZ5zHakiSMRYta3hQd9lwKmAKfM0H3iMvVEOnG0kby3nuqPJ3yDcToJ-Ywf6o=\" data-id=\"oIWsFtwiv2RCu1KUXQmkeJhaU9i0\" onerror=\"qrcodeShowError(\\'http://mp.weixin.qq.com/rr?src=3&amp;timestamp=1491964274&amp;ver=1&amp;signature=5O4z-C6*gsuURlbqhIH1w6cv6ZW3DNWLeH5cU3RGLvHv0gUZ5zHakiSMRYta3hQd9lwKmAKfM0H3iMvVEOnG0kby3nuqPJ3yDcToJ-Ywf6o=\\',4,\\'oIWsFtwiv2RCu1KUXQmkeJhaU9i0\\')\"><img height=\"32\" width=\"32\" class=\"shot-img\" src=\"http://img01.sogoucdn.com/app/a/100520090/oIWsFtwiv2RCu1KUXQmkeJhaU9i0\" onerror=\"errorHeadImage(this)\"></span>\\n</div>\\n</div>\\n<dl>\\n<dt>功能介绍：</dt>\\n<dd>使用者、开发者与<em><!--red_beg-->机器<!--red_end--></em>的美好关系</dd>\\n</dl>\\n<dl>\\n<dt>\\n<script>document.write(authname(\\'2\\'))</script>认证：</dt>\\n<dd>深圳市优易控软件有限公司</dd>\\n</dl>\\n</li>\\n\\n\\t\\t<!-- z -->\\n\\t\\n</ul>\\r\\n    \\r\\n</div>\\r\\n\\r\\n\\r\\n        </div>\\r\\n        \\r\\n            <script>var account_anti_url = \"/websearch/weixin/pc/anti_account.jsp?t=1491964274041&signature=qQ3yGZBrj*KIeuBelzsfnoYSlU1h-Y9LKxxqHQX64bEOdRTTYZXfU23STlFm*hituA8LW0E4jwaoeuI4fY6tzzwJoxRqEHTAe4GtgmyrMcKKxuA5CaafOJMry8p8XPFS57ezVbXmOmOynY1kOehqvsEaB05jOsoNXnL5yhIeq7XBc*f3NDlo5yGEm5SP4t32\";</script>\\r\\n        \\r\\n    </div>\\r\\n    <div class=\"back-top\" style=\"display: none;\"><a href=\"javascript:void(0);\" uigs=\"other_float_back_top\"></a></div>\\r\\n    \\r\\n    <div class=\"bottom-form\">\\r\\n        \\r\\n\\r\\n<form name=\"searchForm\" action=\"/weixin\">\\r\\n    <div class=\"querybox\">\\r\\n        <div class=\"qborder\">\\r\\n            <div class=\"qborder2\">\\r\\n                <input type=\"hidden\" name=\"type\" value=\"1\"/>\\r\\n                <input type=\"hidden\" name=\"s_from\" value=\"input\"/>\\r\\n                <input type=\"text\" class=\"query\" name=\"query\" id=\"query\" ov=\"机器之心\" value=\"机器之心\" autocomplete=\"off\"/>\\r\\n                \\r\\n                    <input type=\"hidden\" name=\"ie\" value=\"utf8\"/>\\r\\n                \\r\\n                <a href=\"javascript:void(0)\" class=\"qreset2\" name=\"reset\" uigs=\"search_reset\"></a>\\r\\n            </div>\\r\\n        </div>\\r\\n        <input type=\"button\" value=\"搜文章\" class=\"swz\" onclick=\"search(this,2)\"  uigs=\"search_article\"/>\\r\\n        <input type=\"button\" value=\"搜公众号\" class=\"swz2\"  onclick=\"search(this,1)\" uigs=\"search_account\"/>\\r\\n        <input type=\"hidden\" name=\"_sug_\" value=\"n\"/>\\r\\n        <input type=\"hidden\" name=\"_sug_type_\" value=\"\"/>\\r\\n    </div>\\r\\n</form>\\r\\n    </div>\\r\\n\\r\\n<div class=\"footer-box\" id=\"s_footer\">\\r\\n    <div class=\"footer\">\\r\\n        <a id=\"sogou_webhelp\" href=\"http://help.sogou.com/\" target=\"_blank\" uigs=\"bottom_ssbz\">搜索帮助</a>&nbsp;<a href=\"http://fankui.help.sogou.com/index.php/web/web/index/type/4\" target=\"_blank\" uigs=\"bottom_yjfk\">意见反馈</a>&nbsp;<script src=\"/websearch/wexinurlenc_sogou_profile.jsp\"></script>&copy;&nbsp;2017&nbsp;SOGOU.COM&nbsp;&nbsp;&nbsp;&nbsp;<a href=\"http://www.sogou.com/docs/terms.htm\" target=\"_blank\" class=\"g\" uigs=\"bottom_mzsm\">免责声明</a>\\r\\n    </div>\\r\\n</div>\\r\\n    \\r\\n    <script>var WX_SUGG_PAGE_FROM=\"pcGzhSearch\"</script>\\r\\n    \\r\\n        <script src=\"/new/pc/js/account.min.js?v=20170315\"></script>\\r\\n    \\r\\n    <script>\\r\\n        \\r\\n        var SugPara = {\\r\\n            \"bigsize\":true,\\r\\n            \"enableSug\":true,\\r\\n            \"sugType\":\"wxpub\",\\r\\n            \"domain\":\"w.sugg.sogou.com\",\\r\\n            \"productId\":\"web\",\\r\\n            \"sugFormName\":\"sf\",\\r\\n            \"submitId\":\"stb\",\\r\\n            \"suggestRid\":\"01015002\",\\r\\n            \"normalRid\":\"01019900\",\\r\\n            \"oms\":1,\\r\\n            \"nofixwidth\":1,\\r\\n            \"useParent\":1\\r\\n        };\\r\\n        uigs_para.exp_id = \"null_0-null_1-null_2-null_3-\";\\r\\n        uigs_para.exp_id = uigs_para.exp_id.substring(0, uigs_para.exp_id.length - 1);\\r\\n    </script>\\r\\n    <script src=\"/new/weixin/js/uigs.min.js?v=20170331\"></script>\\r\\n    <script src=\"/new/pc/js/log.min.js?v=20170321\"></script>\\r\\n    <script src=\"/new/pc/js/event.min.js?v=20170321\"></script>\\r\\n    <script src=\"/new/pc/js/search.min.js?v=20161107\"></script>\\r\\n    <script src=\"/new/pc/js/suggestion.min.js?v=20161207\"></script>\\r\\n    <script src=\"/new/weixin/js/form.min.js?v=20170101\"></script>\\r\\n</body>\\r\\n</html>\\r\\n<!--1491964274047-->\\r\\n<!--zly--><!--weixin-->\\n'"
      ]
     },
     "execution_count": 7,
     "metadata": {},
     "output_type": "execute_result"
    }
   ],
   "source": [
    "text"
   ]
  },
  {
   "cell_type": "code",
   "execution_count": null,
   "metadata": {
    "collapsed": true
   },
   "outputs": [],
   "source": []
  }
 ],
 "metadata": {
  "anaconda-cloud": {},
  "kernelspec": {
   "display_name": "Python [conda root]",
   "language": "python",
   "name": "conda-root-py"
  },
  "language_info": {
   "codemirror_mode": {
    "name": "ipython",
    "version": 3
   },
   "file_extension": ".py",
   "mimetype": "text/x-python",
   "name": "python",
   "nbconvert_exporter": "python",
   "pygments_lexer": "ipython3",
   "version": "3.5.2"
  }
 },
 "nbformat": 4,
 "nbformat_minor": 1
}
